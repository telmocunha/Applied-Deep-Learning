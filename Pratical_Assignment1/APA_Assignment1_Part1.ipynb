{
  "cells": [
    {
      "cell_type": "markdown",
      "metadata": {
        "id": "pYf-JCqyZN3p"
      },
      "source": [
        "**Assignment1 -Parte 1 CIFAR-10**\n",
        "\n",
        "Trabalho realizado por:\n",
        "\n",
        "Telmo Cunha 2018308321\n"
      ]
    },
    {
      "cell_type": "code",
      "execution_count": null,
      "metadata": {
        "id": "vYNzAC9ktyoU"
      },
      "outputs": [],
      "source": [
        "import torch\n",
        "import torch.nn as nn \n",
        "import torch.nn.functional as F\n",
        "from torch.utils.data.sampler import SubsetRandomSampler # Sampler "
      ]
    },
    {
      "cell_type": "markdown",
      "metadata": {
        "id": "0pk9CPtqUseZ"
      },
      "source": [
        "Arquitectura do modelo\n"
      ]
    },
    {
      "cell_type": "code",
      "execution_count": null,
      "metadata": {
        "id": "T8gpYYLgxcfE"
      },
      "outputs": [],
      "source": [
        "# Let's build your first CNN model\n",
        "\n",
        "class nnModel(nn.Module):\n",
        "  def __init__(self, number_of_classes=1):\n",
        "    super(nnModel, self).__init__() # NN Module Initialization\n",
        "    # 1st Convolutional layer\n",
        "    self.conv1 = nn.Conv2d(in_channels=3, out_channels=16, kernel_size=3, stride=1, padding=1)\n",
        "    \n",
        "    # 2nd Convolutional layer\n",
        "    self.conv2 = nn.Conv2d(in_channels=16, out_channels=64, kernel_size=3, stride=1, padding=1)\n",
        "    self.pool1 = nn.MaxPool2d(2,2)\n",
        "    \n",
        "    #3nd convolutional layer\n",
        "    self.conv3= nn.Conv2d(in_channels=64, out_channels=128, kernel_size=3, stride=1, padding=1)\n",
        "    \n",
        "    #4nd convolutional layer\n",
        "    self.conv4= nn.Conv2d(in_channels=128, out_channels=256, kernel_size=3, stride=1, padding=1)\n",
        "    self.pool2 = nn.MaxPool2d(2,2)\n",
        "    \n",
        "    #5nd convolutional layer\n",
        "    self.conv5= nn.Conv2d(in_channels=256, out_channels=512, kernel_size=3, stride=1, padding=1)\n",
        "    self.pool3 = nn.MaxPool2d(2,2)\n",
        "\n",
        "    #bacthnormalization(conv)\n",
        "    self.batch1= nn.BatchNorm2d(16)\n",
        "    self.batch2= nn.BatchNorm2d(64)\n",
        "    self.batch3= nn.BatchNorm2d(128)\n",
        "    self.batch4= nn.BatchNorm2d(256)\n",
        "    self.batch5= nn.BatchNorm2d(512)\n",
        "\n",
        "    #bacthnormalization(linear)\n",
        "    self.batchl1= nn.BatchNorm1d(512)\n",
        "    self.batchl2= nn.BatchNorm1d(256)\n",
        "    \n",
        "\n",
        "\n",
        "    # 1st Fully Connected layer (Linear layer)\n",
        "    self.fc1 = nn.Linear(in_features=512*4*4, out_features=512)#16*32*32\n",
        "\n",
        "    # 2nd Fully Connected Layer (linear Layer)\n",
        "    self.fc2 = nn.Linear(in_features=512 ,out_features=256)\n",
        "\n",
        "    #3nd fully connected layer\n",
        "    self.fc3= nn.Linear(in_features=256, out_features=number_of_classes)\n",
        "    \n",
        "    # 2nd Fully Connected layer (Linear layer)\n",
        "    #self.fc4 = nn.Linear(in_features=128, out_features=number_of_classes) # Last layer's output must be the same as the number of classes/categories \n",
        " \n",
        "    # Dropout\n",
        "    self.dropout = nn.Dropout(p=0.25)\n",
        "    \n",
        "\n",
        "  def forward(self, x):\n",
        "    # In \"forward\" function, you define the behaviour of your CNN\n",
        "    # Activation functions are also implemented in \"forward\" function\n",
        "    \n",
        "    # 1st Convolutional layer\n",
        "    x = F.relu(self.batch1(self.conv1(x)))\n",
        "     \n",
        "    # 2nd Convolutional layer\n",
        "    x = F.relu(self.batch2(self.conv2(x)))\n",
        "    x = self.pool1(x)\n",
        "\n",
        "    #3nd Convolutional layer\n",
        "    x= F.relu(self.batch3(self.conv3(x)))\n",
        "    \n",
        "    #4nd \n",
        "    x= F.relu(self.batch4(self.conv4(x)))\n",
        "    x = self.pool2(x)\n",
        "\n",
        "    #5nd\n",
        "    x=F.relu(self.batch5(self.conv5(x)))\n",
        "    x = self.pool3(x)\n",
        "    \n",
        "\n",
        "    # Before passing features to the linear layers, you need to \"flatten\" the features.\n",
        "    flat_x = x.view(x.shape[0], -1)\n",
        "\n",
        "    # 1st Fully Connected layer (Linear layer)\n",
        "    flat_x = F.relu(self.batchl1(self.fc1(flat_x)))\n",
        "    \n",
        "\n",
        "    # 2nd Fully Connected layer (Linear layer)\n",
        "    flat_x = F.relu(self.batchl2(self.fc2(flat_x))) # Usually, last layer does not need activation layer\n",
        "    \n",
        "\n",
        "\n",
        "    #flat_x= F.relu(self.fc3(flat_x))\n",
        "    \n",
        "\n",
        "    flat_x = self.dropout(flat_x)#evitar overfitting, aumenta a generalização\n",
        "\n",
        "    flat_x= self.fc3(flat_x)\n",
        "\n",
        "    return flat_x"
      ]
    },
    {
      "cell_type": "code",
      "execution_count": null,
      "metadata": {
        "colab": {
          "base_uri": "https://localhost:8080/"
        },
        "id": "Evje6i_wxoUM",
        "outputId": "d9dd2363-a75e-4d7d-c693-f3c286235e7b"
      },
      "outputs": [
        {
          "name": "stdout",
          "output_type": "stream",
          "text": [
            "CNN Architecture: nnModel(\n",
            "  (conv1): Conv2d(3, 16, kernel_size=(3, 3), stride=(1, 1), padding=(1, 1))\n",
            "  (conv2): Conv2d(16, 64, kernel_size=(3, 3), stride=(1, 1), padding=(1, 1))\n",
            "  (pool1): MaxPool2d(kernel_size=2, stride=2, padding=0, dilation=1, ceil_mode=False)\n",
            "  (conv3): Conv2d(64, 128, kernel_size=(3, 3), stride=(1, 1), padding=(1, 1))\n",
            "  (conv4): Conv2d(128, 256, kernel_size=(3, 3), stride=(1, 1), padding=(1, 1))\n",
            "  (pool2): MaxPool2d(kernel_size=2, stride=2, padding=0, dilation=1, ceil_mode=False)\n",
            "  (conv5): Conv2d(256, 512, kernel_size=(3, 3), stride=(1, 1), padding=(1, 1))\n",
            "  (pool3): MaxPool2d(kernel_size=2, stride=2, padding=0, dilation=1, ceil_mode=False)\n",
            "  (batch1): BatchNorm2d(16, eps=1e-05, momentum=0.1, affine=True, track_running_stats=True)\n",
            "  (batch2): BatchNorm2d(64, eps=1e-05, momentum=0.1, affine=True, track_running_stats=True)\n",
            "  (batch3): BatchNorm2d(128, eps=1e-05, momentum=0.1, affine=True, track_running_stats=True)\n",
            "  (batch4): BatchNorm2d(256, eps=1e-05, momentum=0.1, affine=True, track_running_stats=True)\n",
            "  (batch5): BatchNorm2d(512, eps=1e-05, momentum=0.1, affine=True, track_running_stats=True)\n",
            "  (batchl1): BatchNorm1d(512, eps=1e-05, momentum=0.1, affine=True, track_running_stats=True)\n",
            "  (batchl2): BatchNorm1d(256, eps=1e-05, momentum=0.1, affine=True, track_running_stats=True)\n",
            "  (fc1): Linear(in_features=8192, out_features=512, bias=True)\n",
            "  (fc2): Linear(in_features=512, out_features=256, bias=True)\n",
            "  (fc3): Linear(in_features=256, out_features=10, bias=True)\n",
            "  (dropout): Dropout(p=0.25, inplace=False)\n",
            ")\n",
            "\n",
            "The model will run on cuda\n",
            "\n",
            "\n",
            "\n",
            "----------------------------------------------------------------\n",
            "        Layer (type)               Output Shape         Param #\n",
            "================================================================\n",
            "            Conv2d-1            [5, 16, 32, 32]             448\n",
            "       BatchNorm2d-2            [5, 16, 32, 32]              32\n",
            "            Conv2d-3            [5, 64, 32, 32]           9,280\n",
            "       BatchNorm2d-4            [5, 64, 32, 32]             128\n",
            "         MaxPool2d-5            [5, 64, 16, 16]               0\n",
            "            Conv2d-6           [5, 128, 16, 16]          73,856\n",
            "       BatchNorm2d-7           [5, 128, 16, 16]             256\n",
            "            Conv2d-8           [5, 256, 16, 16]         295,168\n",
            "       BatchNorm2d-9           [5, 256, 16, 16]             512\n",
            "        MaxPool2d-10             [5, 256, 8, 8]               0\n",
            "           Conv2d-11             [5, 512, 8, 8]       1,180,160\n",
            "      BatchNorm2d-12             [5, 512, 8, 8]           1,024\n",
            "        MaxPool2d-13             [5, 512, 4, 4]               0\n",
            "           Linear-14                   [5, 512]       4,194,816\n",
            "      BatchNorm1d-15                   [5, 512]           1,024\n",
            "           Linear-16                   [5, 256]         131,328\n",
            "      BatchNorm1d-17                   [5, 256]             512\n",
            "          Dropout-18                   [5, 256]               0\n",
            "           Linear-19                    [5, 10]           2,570\n",
            "================================================================\n",
            "Total params: 5,891,114\n",
            "Trainable params: 5,891,114\n",
            "Non-trainable params: 0\n",
            "----------------------------------------------------------------\n",
            "Input size (MB): 0.06\n",
            "Forward/backward pass size (MB): 17.88\n",
            "Params size (MB): 22.47\n",
            "Estimated Total Size (MB): 40.41\n",
            "----------------------------------------------------------------\n"
          ]
        }
      ],
      "source": [
        "# Check your built CNN model\n",
        "cnn_model = nnModel(10)\n",
        "print(\"CNN Architecture: \"+ str(cnn_model))\n",
        "\n",
        "device = torch.device(\"cuda\" if torch.cuda.is_available() else \"cpu\") \n",
        "print('\\nThe model will run on', device)\n",
        "cnn_model = cnn_model.to(device)\n",
        "\n",
        "# Using the torchsummary, you can check your network in more detail\n",
        "import torchsummary\n",
        "print(\"\\n\\n\")\n",
        "torchsummary.summary(cnn_model, input_size = (3, 32, 32), batch_size = 5) \n"
      ]
    },
    {
      "cell_type": "markdown",
      "metadata": {
        "id": "cLe1IEVrxyr_"
      },
      "source": [
        "Dataset\n"
      ]
    },
    {
      "cell_type": "code",
      "execution_count": null,
      "metadata": {
        "colab": {
          "base_uri": "https://localhost:8080/"
        },
        "id": "NDGMwu8Yu6Ki",
        "outputId": "1bee6919-d391-4e51-bfaf-de09ab976f9d"
      },
      "outputs": [
        {
          "name": "stdout",
          "output_type": "stream",
          "text": [
            "Files already downloaded and verified\n",
            "Files already downloaded and verified\n",
            "Number of images in original training set: 100000\n",
            "Split Number: 20000\n",
            "Number of training images: 80000\n",
            "Number of validation images: 20000\n",
            "Number of images in the testing set: 10000\n"
          ]
        }
      ],
      "source": [
        "from torchvision . datasets import CIFAR10\n",
        "import torchvision . transforms as tt\n",
        "import numpy as np\n",
        "\n",
        "transform_train2= tt.Compose([tt.ToTensor(),\n",
        "                              tt.Normalize((0.5, 0.5, 0.5), (0.5, 0.5, 0.5))])\n",
        "\n",
        "transform_train = tt.Compose([tt.ToTensor(),\n",
        "                              tt.Normalize((0.5, 0.5, 0.5), (0.5, 0.5, 0.5)), #Normalize all the images\n",
        "                              tt.RandomInvert(0.5),       \n",
        "                              tt.RandomHorizontalFlip(0.5),       #Flips the image horizontal axis\n",
        "                              tt.RandomRotation((-45,45))#Rotates the image to a specified angel \n",
        "                                                         \n",
        "                              ])\n",
        "\n",
        "#tt.ColorJitter(0.2,0.2,0.3,0.3), #brightness, contrast , saturation, hue  \n",
        "transform = tt.Compose([tt.Resize((32,32)),\n",
        "                         tt.ToTensor(),\n",
        "                         tt.Normalize((0.5, 0.5, 0.5), (0.5, 0.5, 0.5))\n",
        "                       ])\n",
        "\n",
        "#transform = tt. ToTensor ()\n",
        "training_data = CIFAR10 ( download =True , root =\"./ data \",transform = transform_train )\n",
        "training_data2 = CIFAR10 ( download =True , root =\"./ data \",transform = transform_train2 )\n",
        "training_data=torch.utils.data.ConcatDataset([training_data,training_data2]);\n",
        "\n",
        "testing_data = CIFAR10 ( root =\"./ data \",train =False , transform = transform )\n",
        "\n",
        "# Lets start to obtain training indices\n",
        "num_train = len(training_data)\n",
        "print(\"Number of images in original training set: \" + str(num_train)) # 60 000\n",
        "indices = list(range(num_train))\n",
        "\n",
        "# Randomly Shuffle\n",
        "np.random.shuffle(indices)\n",
        "\n",
        "# Split 80%/20%\n",
        "split = int(np.floor(num_train * 0.2)) # 12 000\n",
        "print(\"Split Number: \" + str(split))\n",
        "training_idx, valid_idx = indices[split:], indices[:split] # 48 000 / 12 000\n",
        "print(\"Number of training images: \" + str(len(training_idx)))\n",
        "print(\"Number of validation images: \" + str(len(valid_idx)))\n",
        "\n",
        "# Lets also see how many images are on testing set\n",
        "print(\"Number of images in the testing set: \" + str(len(testing_data))) # 10 000"
      ]
    },
    {
      "cell_type": "code",
      "execution_count": null,
      "metadata": {
        "id": "1UbFk-JsyFS7"
      },
      "outputs": [],
      "source": [
        "# To train the network, you must \"encode\" the data into a PyTorch dataloader\n",
        "# Since you divided the original training set in 2, now you need to assign the indices to the samples\n",
        "training_sampler = SubsetRandomSampler(training_idx)\n",
        "valid_sampler = SubsetRandomSampler(valid_idx)\n",
        "\n",
        "batch_size = 128 # 100 images per batch and per epoch\n",
        "\n",
        "# Training Set\n",
        "training_loader = torch.utils.data.DataLoader(dataset = training_data, \\\n",
        "                                              batch_size = batch_size, \\\n",
        "                                              sampler = training_sampler)\n",
        "\n",
        "# Validation Set\n",
        "valid_loader = torch.utils.data.DataLoader(dataset = training_data, \\\n",
        "                                           batch_size = batch_size, \\\n",
        "                                           sampler = valid_sampler)\n",
        "\n",
        "# Testing Set\n",
        "# Here, you do not need the \"sampler\" input, since you did not change the original testing set\n",
        "testing_loader = torch.utils.data.DataLoader(dataset = testing_data, \\\n",
        "                                           batch_size = batch_size, \\\n",
        "                                           shuffle = True)\n",
        "classes = ['airplane','automobile','bird','cat','deer','dog','frog','horse','ship','truck']"
      ]
    },
    {
      "cell_type": "code",
      "execution_count": null,
      "metadata": {
        "colab": {
          "base_uri": "https://localhost:8080/",
          "height": 602
        },
        "id": "BC37Xk0KyR7W",
        "outputId": "4a95482d-eb39-4233-bfcb-dac195d53e86"
      },
      "outputs": [
        {
          "name": "stderr",
          "output_type": "stream",
          "text": [
            "WARNING:matplotlib.image:Clipping input data to the valid range for imshow with RGB data ([0..1] for floats or [0..255] for integers).\n",
            "WARNING:matplotlib.image:Clipping input data to the valid range for imshow with RGB data ([0..1] for floats or [0..255] for integers).\n",
            "WARNING:matplotlib.image:Clipping input data to the valid range for imshow with RGB data ([0..1] for floats or [0..255] for integers).\n",
            "WARNING:matplotlib.image:Clipping input data to the valid range for imshow with RGB data ([0..1] for floats or [0..255] for integers).\n",
            "WARNING:matplotlib.image:Clipping input data to the valid range for imshow with RGB data ([0..1] for floats or [0..255] for integers).\n",
            "WARNING:matplotlib.image:Clipping input data to the valid range for imshow with RGB data ([0..1] for floats or [0..255] for integers).\n",
            "WARNING:matplotlib.image:Clipping input data to the valid range for imshow with RGB data ([0..1] for floats or [0..255] for integers).\n",
            "WARNING:matplotlib.image:Clipping input data to the valid range for imshow with RGB data ([0..1] for floats or [0..255] for integers).\n",
            "WARNING:matplotlib.image:Clipping input data to the valid range for imshow with RGB data ([0..1] for floats or [0..255] for integers).\n",
            "WARNING:matplotlib.image:Clipping input data to the valid range for imshow with RGB data ([0..1] for floats or [0..255] for integers).\n",
            "WARNING:matplotlib.image:Clipping input data to the valid range for imshow with RGB data ([0..1] for floats or [0..255] for integers).\n",
            "WARNING:matplotlib.image:Clipping input data to the valid range for imshow with RGB data ([0..1] for floats or [0..255] for integers).\n",
            "WARNING:matplotlib.image:Clipping input data to the valid range for imshow with RGB data ([0..1] for floats or [0..255] for integers).\n",
            "WARNING:matplotlib.image:Clipping input data to the valid range for imshow with RGB data ([0..1] for floats or [0..255] for integers).\n",
            "WARNING:matplotlib.image:Clipping input data to the valid range for imshow with RGB data ([0..1] for floats or [0..255] for integers).\n",
            "WARNING:matplotlib.image:Clipping input data to the valid range for imshow with RGB data ([0..1] for floats or [0..255] for integers).\n",
            "WARNING:matplotlib.image:Clipping input data to the valid range for imshow with RGB data ([0..1] for floats or [0..255] for integers).\n",
            "WARNING:matplotlib.image:Clipping input data to the valid range for imshow with RGB data ([0..1] for floats or [0..255] for integers).\n",
            "WARNING:matplotlib.image:Clipping input data to the valid range for imshow with RGB data ([0..1] for floats or [0..255] for integers).\n",
            "WARNING:matplotlib.image:Clipping input data to the valid range for imshow with RGB data ([0..1] for floats or [0..255] for integers).\n"
          ]
        },
        {
          "data": {
            "image/png": "[encoded data removed]",
            "text/plain": [
              "<Figure size 1800x288 with 20 Axes>"
            ]
          },
          "metadata": {},
          "output_type": "display_data"
        }
      ],
      "source": [
        "# Visualization of 20 images in a batch\n",
        "import matplotlib.pyplot as plt\n",
        "%matplotlib inline\n",
        "\n",
        "#função para anormalizar e mostar uma imagem\n",
        "def imshow(img):\n",
        "  immg= img / 2 + 0.5 #anormalização\n",
        "  plt.imshow(np.transpose(img, (1, 2, 0))) \n",
        "\n",
        "#Get images\n",
        "data_iter = iter(training_loader)\n",
        "images, labels = data_iter.next()\n",
        "images= images.numpy()\n",
        "\n",
        "# plot the images in the batch, along with the corresponding labels\n",
        "fig = plt.figure(figsize=(25,4))\n",
        "\n",
        "#display 20 images\n",
        "for idx in np.arange(20):\n",
        "  # Add a subplot for the image\n",
        "  ax = fig.add_subplot(2, 20/2, idx+1, xticks=[], yticks=[] )\n",
        "  # Subplot with the image\n",
        "  imshow(images[idx] )\n",
        "  # print out the correct label for each image\n",
        "  ax.set_title(classes[labels[idx] ] )"
      ]
    },
    {
      "cell_type": "markdown",
      "metadata": {
        "id": "jHiRzIPbyVwD"
      },
      "source": [
        "Trainig\n"
      ]
    },
    {
      "cell_type": "code",
      "execution_count": null,
      "metadata": {
        "id": "mr8cKqkDyXu3"
      },
      "outputs": [],
      "source": [
        "# Library imports\n",
        "import torch.optim as optim\n",
        "import tensorflow as tf"
      ]
    },
    {
      "cell_type": "code",
      "execution_count": null,
      "metadata": {
        "colab": {
          "base_uri": "https://localhost:8080/"
        },
        "id": "q_mJVYIWyZ6j",
        "outputId": "178c2a64-c978-4e5c-da28-cac77463a41f"
      },
      "outputs": [
        {
          "name": "stdout",
          "output_type": "stream",
          "text": [
            "(Validation Set) Epoch: 1 Loss: 0.008355844873189926 Acc: 62.635\n",
            "Epoch-0 lr: 0.01\n",
            "(Validation Set) Epoch: 2 Loss: 0.00673423764705658 Acc: 70.565\n",
            "Epoch-1 lr: 0.01\n",
            "(Validation Set) Epoch: 3 Loss: 0.006114205859601498 Acc: 73.22\n",
            "Epoch-2 lr: 0.01\n",
            "(Validation Set) Epoch: 4 Loss: 0.005622338217496872 Acc: 76.015\n",
            "Epoch-3 lr: 0.01\n",
            "(Validation Set) Epoch: 5 Loss: 0.005038422723114491 Acc: 78.475\n",
            "Epoch-4 lr: 0.01\n",
            "(Validation Set) Epoch: 6 Loss: 0.004797113519906998 Acc: 79.495\n",
            "Epoch-5 lr: 0.01\n",
            "(Validation Set) Epoch: 7 Loss: 0.003743639752268791 Acc: 84.345\n",
            "Epoch-6 lr: 0.001\n",
            "(Validation Set) Epoch: 8 Loss: 0.0036297345228493215 Acc: 85.05\n",
            "Epoch-7 lr: 0.001\n",
            "(Validation Set) Epoch: 9 Loss: 0.003611085417121649 Acc: 85.13\n",
            "Epoch-8 lr: 0.001\n",
            "(Validation Set) Epoch: 10 Loss: 0.0035558509148657324 Acc: 85.505\n",
            "Epoch-9 lr: 0.001\n",
            "(Validation Set) Epoch: 11 Loss: 0.0034580409437417986 Acc: 86.195\n",
            "Epoch-10 lr: 0.001\n",
            "(Validation Set) Epoch: 12 Loss: 0.0032958341278135775 Acc: 86.81\n",
            "Epoch-11 lr: 0.0001\n",
            "(Validation Set) Epoch: 13 Loss: 0.0032992508068680764 Acc: 86.735\n",
            "Epoch-12 lr: 0.0001\n",
            "(Validation Set) Epoch: 14 Loss: 0.0032463934510946276 Acc: 86.94\n",
            "Epoch-13 lr: 0.0001\n",
            "(Validation Set) Epoch: 15 Loss: 0.0032263837091624737 Acc: 87.095\n",
            "Epoch-14 lr: 0.0001\n",
            "(Validation Set) Epoch: 16 Loss: 0.0032271537624299525 Acc: 87.37\n",
            "Epoch-15 lr: 0.0001\n",
            "(Validation Set) Epoch: 17 Loss: 0.0032338057719171046 Acc: 87.415\n",
            "Epoch-16 lr: 1e-05\n",
            "(Validation Set) Epoch: 18 Loss: 0.0031519691601395606 Acc: 87.405\n",
            "Epoch-17 lr: 1e-05\n",
            "(Validation Set) Epoch: 19 Loss: 0.003200343620032072 Acc: 87.33\n",
            "Epoch-18 lr: 1e-05\n",
            "(Validation Set) Epoch: 20 Loss: 0.003237730371206999 Acc: 87.315\n",
            "Epoch-19 lr: 1e-05\n",
            "Training is completed!\n"
          ]
        }
      ],
      "source": [
        "# To train a CNN, you must choose (or develop) a loss function, an optimizer algorithm, and a set of hyper-parameters (learning rate, number of epochs, etc)\n",
        "# Hyper-parameters\n",
        "\n",
        "num_epochs = 20\n",
        "loss_values = []\n",
        "lr=0.01  \n",
        "\n",
        "# Loss Function\n",
        "criterion = nn.CrossEntropyLoss() # Cross entropy loss function is widely used in classification problems\n",
        "\n",
        "\n",
        "# Optimizer Algorithm\n",
        "#optimizer = optim.Adam(cnn_model.parameters(), lr = lr)\n",
        "optimizer = optim.RAdam(cnn_model.parameters(), lr = lr)\n",
        "#optimizer =optim.RMSprop(cnn_model.parameters(),lr=lr)\n",
        "\n",
        "# Training\n",
        "running_loss = 0.0\n",
        "training_loss =0.0\n",
        "\n",
        "y_valid= list()\n",
        "y_train= list()\n",
        "#adaptive learning rate\n",
        "#scheduler = optim.lr_scheduler.StepLR(optimizer,step_size=4,gamma=0.1)\n",
        "scheduler = optim.lr_scheduler.ReduceLROnPlateau(optimizer,mode='max',factor=0.1,patience=4)\n",
        "\n",
        "for epoch in range(num_epochs):\n",
        "  \n",
        "  for batch_id, data in enumerate(training_loader, 0):\n",
        "    \n",
        "    #Get the images and their labels\n",
        "    images, labels = data\n",
        "    # Send the images and their labels to the training device\n",
        "    images, labels = images.to(device), labels.to(device)\n",
        "\n",
        "    # Pass images through the CNN\n",
        "    outputs = cnn_model(images)\n",
        "\n",
        "    # Create a loss value\n",
        "    loss = criterion(outputs, labels)\n",
        "\n",
        "    # Backpropagation\n",
        "    optimizer.zero_grad() # zero the parameter gradients\n",
        "    loss.backward()\n",
        "    optimizer.step()\n",
        "\n",
        "    # Check some statistics\n",
        "    training_loss+= loss.item()\n",
        "    running_loss += loss.item()\n",
        "    if batch_id % 1000 == 999: # prints every 1000 batchs\n",
        "      print('[%d, %5d] loss: %.3f' % (epoch + 1, batch_id + 1, running_loss / 1000))\n",
        "      running_loss = 0.0\n",
        "    \n",
        "  y_train.append(training_loss/(len(training_idx)/batch_size))\n",
        "  training_loss=0.0\n",
        "  \n",
        "  # For each epoch, analize the model performance\n",
        "  valid_correct = 0\n",
        "  valid_total = 0\n",
        "  valid_total_loss = 0\n",
        "  with torch.no_grad(): # In this part, you will not train, so you don't need to calculate gradients\n",
        "    for valid_batch_id, valid_data in enumerate(valid_loader, 0):\n",
        "      valid_images, valid_labels = valid_data\n",
        "      valid_images, valid_labels = valid_images.to(device), valid_labels.to(device)\n",
        "      valid_outputs = cnn_model(valid_images)\n",
        "      valid_loss = criterion(valid_outputs, valid_labels)\n",
        "      valid_total_loss += valid_loss.item()\n",
        "      _, valid_predicted = torch.max(valid_outputs.data, 1)\n",
        "      valid_total += valid_labels.size(0)\n",
        "      valid_correct += (valid_predicted == valid_labels).sum().item()\n",
        "  \n",
        "  validation_loss= valid_total_loss/len(valid_idx)\n",
        "  loss_values.append(validation_loss)\n",
        "  y_valid.append(valid_total_loss/(len(valid_idx)/batch_size))\n",
        "  print(\"(Validation Set) Epoch: \" + str(epoch + 1) + \" Loss: \" + str(valid_total_loss/ len(valid_idx)) + \" Acc: \" + str(100*valid_correct/valid_total))\n",
        "  print('Epoch-{0} lr: {1}'.format(epoch, optimizer.param_groups[0]['lr']))\n",
        "  scheduler.step(loss)\n",
        "\n",
        "\n",
        "print(\"Training is completed!\")"
      ]
    },
    {
      "cell_type": "markdown",
      "metadata": {
        "id": "76Zk_RP8yoXY"
      },
      "source": [
        "Loss per epoch"
      ]
    },
    {
      "cell_type": "code",
      "execution_count": null,
      "metadata": {
        "colab": {
          "base_uri": "https://localhost:8080/",
          "height": 295
        },
        "id": "cjUcssxryquh",
        "outputId": "27425795-a32d-45c9-c56b-5355717f76cc"
      },
      "outputs": [
        {
          "data": {
            "image/png": "[encoded data removed]",
            "text/plain": [
              "<Figure size 432x288 with 1 Axes>"
            ]
          },
          "metadata": {
            "needs_background": "light"
          },
          "output_type": "display_data"
        }
      ],
      "source": [
        "plt.plot(loss_values)\n",
        "plt.xlabel (\"Epoch\")\n",
        "plt.ylabel (\"Loss\")\n",
        "plt.title (\"Performance of Model\")\n",
        "plt.show()"
      ]
    },
    {
      "cell_type": "code",
      "execution_count": null,
      "metadata": {
        "colab": {
          "base_uri": "https://localhost:8080/",
          "height": 279
        },
        "id": "4BWXtg8daDGG",
        "outputId": "1666fac4-c80c-43d7-e5a3-e01b7f131aaa"
      },
      "outputs": [
        {
          "data": {
            "image/png": "[encoded data removed]",
            "text/plain": [
              "<Figure size 432x288 with 1 Axes>"
            ]
          },
          "metadata": {
            "needs_background": "light"
          },
          "output_type": "display_data"
        }
      ],
      "source": [
        "# plot  \n",
        "x = list(range(1, num_epochs+1))\n",
        "plt.plot(x, y_valid, 'bo-', label ='validation set')\n",
        "plt.plot(x, y_train, 'go-', label ='training set')\n",
        "\n",
        "plt.xlabel(\"Epochs\")\n",
        "plt.ylabel(\"Loss\")\n",
        "  \n",
        "# Function add a legend  \n",
        "plt.legend()\n",
        "  \n",
        "# function to show the plot\n",
        "plt.show()"
      ]
    },
    {
      "cell_type": "markdown",
      "metadata": {
        "id": "c6ZrL_mNytbK"
      },
      "source": [
        "Testing"
      ]
    },
    {
      "cell_type": "code",
      "execution_count": null,
      "metadata": {
        "colab": {
          "base_uri": "https://localhost:8080/",
          "height": 872
        },
        "id": "u9tNHB6dyvAs",
        "outputId": "5dc12e5d-3d0a-49de-8ea3-ca9eba8448e4"
      },
      "outputs": [
        {
          "name": "stdout",
          "output_type": "stream",
          "text": [
            "Accuracy using 10000 test images: 87.87 %\n",
            "\n",
            "Accuracy of  0 : 88 % in 1000 Images\n",
            "Accuracy of  1 : 95 % in 1000 Images\n",
            "Accuracy of  2 : 84 % in 1000 Images\n",
            "Accuracy of  3 : 75 % in 1000 Images\n",
            "Accuracy of  4 : 87 % in 1000 Images\n",
            "Accuracy of  5 : 81 % in 1000 Images\n",
            "Accuracy of  6 : 90 % in 1000 Images\n",
            "Accuracy of  7 : 90 % in 1000 Images\n",
            "Accuracy of  8 : 93 % in 1000 Images\n",
            "Accuracy of  9 : 91 % in 1000 Images\n",
            "\n",
            "Confusion Matrix\n",
            "[[885   2  30  10   5   5   4   5  23  15]\n",
            " [ 10 952   1   4   0   4   1   0  15  40]\n",
            " [ 26   1 841  38  24  18  23   8   5   5]\n",
            " [ 11   1  30 758  32 104  37  22   3   2]\n",
            " [ 11   1  42  32 876  23  15  22   2   0]\n",
            " [  1   0  20  93  22 818   9  29   5   1]\n",
            " [  3   1  24  28  16   6 900   1   2   1]\n",
            " [  6   1   7  22  19  20   3 906   1   2]\n",
            " [ 33   8   3   7   6   1   5   2 932  15]\n",
            " [ 14  33   2   8   0   1   3   5  12 919]]\n",
            "\n",
            "\n"
          ]
        },
        {
          "data": {
            "image/png": "[encoded data removed]",
            "text/plain": [
              "<Figure size 432x288 with 2 Axes>"
            ]
          },
          "metadata": {
            "needs_background": "light"
          },
          "output_type": "display_data"
        },
        {
          "name": "stdout",
          "output_type": "stream",
          "text": [
            "\n",
            "Global F1 score:81.25\n",
            "Mean F1 score:80.17857142857143\n",
            "Mean precision:84.375\n",
            "Mean recall 81.25\n"
          ]
        },
        {
          "name": "stderr",
          "output_type": "stream",
          "text": [
            "/usr/local/lib/python3.7/dist-packages/sklearn/metrics/_classification.py:1318: UndefinedMetricWarning: Precision is ill-defined and being set to 0.0 in labels with no predicted samples. Use `zero_division` parameter to control this behavior.\n",
            "  _warn_prf(average, modifier, msg_start, len(result))\n"
          ]
        }
      ],
      "source": [
        "from sklearn.metrics import confusion_matrix\n",
        "from sklearn.metrics import f1_score\n",
        "from sklearn.metrics import recall_score\n",
        "from sklearn.metrics import precision_score\n",
        "from sklearn.metrics import ConfusionMatrixDisplay\n",
        "# Evaluate a CNN is similar to the training process without the backpropagation.\n",
        "# To evaluate a CNN, we need to follow the evaluation metrics\n",
        "num_classes = 10\n",
        "correct = 0\n",
        "total = 0\n",
        "class_correct = list(0. for i in range(num_classes))\n",
        "class_total = list(0. for i in range(num_classes))\n",
        "conf_matrix =[[0 for x in range(num_classes)] for y in range(num_classes)]\n",
        "\n",
        "cnn_model.eval()\n",
        "\n",
        "with torch.no_grad(): # You are not training, so you don't need to calculate gradients\n",
        "  for batch_id, data in enumerate(testing_loader, 0):\n",
        "    # Get the images and their labels\n",
        "    images, labels = data\n",
        "    # Send the images and their labels to the training device\n",
        "    images, labels = images.to(device), labels.to(device)\n",
        "\n",
        "    # Calculate the CNN's predictions by running images through the network\n",
        "    outputs = cnn_model(images)\n",
        "\n",
        "    # The class with the highest\n",
        "    _, predicted = torch.max(outputs.data, 1)\n",
        "\n",
        "    # Get model's performance\n",
        "    total += labels.size(0)\n",
        "    correct += (predicted == labels).sum().item()\n",
        "    c = (predicted == labels).squeeze()\n",
        "\n",
        "    for i in range(len(images)):  \n",
        "      label = labels[i]\n",
        "      class_correct[label] += c[i].item()\n",
        "      class_total[label] += 1\n",
        "\n",
        "    conf_matrix += confusion_matrix(predicted.cpu(),labels.cpu(),labels=[x for x in range(num_classes)])\n",
        "\n",
        "# Show model's performance\n",
        "print('Accuracy using {} test images: {} %\\n'.format(total,100 * correct / total))\n",
        "# Performance per Class\n",
        "for i in range(num_classes):\n",
        "  if class_total[i] == 0:\n",
        "    print('Accuracy of %2s : %2d %% in %d Images' % (i, 0, 0))\n",
        "  else:\n",
        "    print('Accuracy of %2s : %2d %% in %d Images' % (i, 100 * class_correct[i] / class_total[i], class_total[i]))\n",
        "\n",
        "# Confusion Matrix\n",
        "print('\\nConfusion Matrix')\n",
        "print(conf_matrix) \n",
        "\n",
        "print('\\n')\n",
        "conf_disp = ConfusionMatrixDisplay(confusion_matrix = conf_matrix, \n",
        "                       display_labels = classes)\n",
        "conf_disp.plot()\n",
        "plt.show()\n",
        "\n",
        "f1micro = f1_score(labels.cpu(),predicted.cpu(),average=\"micro\")\n",
        "f1mean = f1_score(labels.cpu(),predicted.cpu(),average=\"weighted\")\n",
        "precision=precision_score(labels.cpu(),predicted.cpu(),average=\"weighted\")\n",
        "recall=recall_score(labels.cpu(),predicted.cpu(),average=\"weighted\")\n",
        "\n",
        "\n",
        "print(\"\\nGlobal F1 score:\"+str(f1micro*100))\n",
        "print(\"Mean F1 score:\"+str(f1mean*100))\n",
        "print(\"Mean precision:\"+str(precision*100))\n",
        "print(\"Mean recall\", str(recall*100))\n"
      ]
    }
  ],
  "metadata": {
    "accelerator": "GPU",
    "colab": {
      "collapsed_sections": [],
      "provenance": []
    },
    "kernelspec": {
      "display_name": "Python 3",
      "name": "python3"
    },
    "language_info": {
      "name": "python"
    }
  },
  "nbformat": 4,
  "nbformat_minor": 0
}
