{
  "cells": [
    {
      "cell_type": "markdown",
      "metadata": {
        "id": "9kPr0rRZTcrm"
      },
      "source": [
        "**Assignment2 -Parte 1 MobileNetV2**\n",
        "\n",
        "Trabalho realizado por:\n",
        "\n",
        "Telmo Cunha 2018308321\n"
      ]
    },
    {
      "cell_type": "code",
      "execution_count": 1,
      "metadata": {
        "colab": {
          "base_uri": "https://localhost:8080/"
        },
        "id": "td4mRNjLPOpC",
        "outputId": "742b146c-60d8-45fa-81f4-cc59464763c0"
      },
      "outputs": [
        {
          "name": "stdout",
          "output_type": "stream",
          "text": [
            "Mounted at /content/gdrive\n"
          ]
        }
      ],
      "source": [
        "from google.colab import drive\n",
        "drive.mount('/content/gdrive')"
      ]
    },
    {
      "cell_type": "code",
      "execution_count": 2,
      "metadata": {
        "colab": {
          "base_uri": "https://localhost:8080/"
        },
        "id": "2RUzTncaPlur",
        "outputId": "2e09c1e2-8932-4444-b60a-cd5837f957b1"
      },
      "outputs": [
        {
          "name": "stdout",
          "output_type": "stream",
          "text": [
            "/content/gdrive/MyDrive/YOLO\n"
          ]
        }
      ],
      "source": [
        "%cd gdrive/MyDrive/YOLO"
      ]
    },
    {
      "cell_type": "code",
      "execution_count": 3,
      "metadata": {
        "colab": {
          "base_uri": "https://localhost:8080/"
        },
        "id": "4OmFObgAPinB",
        "outputId": "e57efeb5-89d4-4a3b-9220-67edb6b53632"
      },
      "outputs": [
        {
          "name": "stdout",
          "output_type": "stream",
          "text": [
            "\u001b[0m\u001b[01;34mcheckpoints\u001b[0m/    datasets.py     models.py         test.py\n",
            "\u001b[01;34mconfig\u001b[0m/         datasplit.py    \u001b[01;34m__pycache__\u001b[0m/      train.py\n",
            "\u001b[01;34mdata\u001b[0m/           detect.py       \u001b[01;34mResults\u001b[0m/          utils.py\n",
            "dataset.pickle  \u001b[01;34mKITTI_dataset\u001b[0m/  \u001b[01;34mResults_weights\u001b[0m/  \u001b[01;34mweights\u001b[0m/\n"
          ]
        }
      ],
      "source": [
        "%ls"
      ]
    },
    {
      "cell_type": "code",
      "execution_count": 4,
      "metadata": {
        "id": "6Gm3d0eHCND6"
      },
      "outputs": [],
      "source": [
        "import numpy as np\n",
        "import pandas as pd\n",
        "import cv2 as cv\n",
        "import glob\n",
        "import os\n",
        "from google.colab.patches import cv2_imshow # for image display\n",
        "from skimage import io\n",
        "import matplotlib.pyplot as plt\n",
        "import math\n",
        "from PIL import Image\n",
        "import pickle\n",
        "\n",
        "from torch.utils import data\n",
        "from torchvision import transforms\n",
        "#import torchvision.transforms as transforms\n",
        "import torch\n",
        "import torch.nn as nn \n",
        "import torch.nn.functional as F\n",
        "import torchvision.models as models\n",
        "\n",
        "\n"
      ]
    },
    {
      "cell_type": "markdown",
      "metadata": {
        "id": "ggBziGWEWrGf"
      },
      "source": [
        "Dataset"
      ]
    },
    {
      "cell_type": "code",
      "execution_count": 5,
      "metadata": {
        "colab": {
          "base_uri": "https://localhost:8080/"
        },
        "id": "J3SVQhBO1tvI",
        "outputId": "b9a3c44e-c292-404b-cd33-09bdfc98c578"
      },
      "outputs": [
        {
          "name": "stdout",
          "output_type": "stream",
          "text": [
            "Size of images: 500\n"
          ]
        }
      ],
      "source": [
        "#maybe done\n",
        "\n",
        "\n",
        "#load of the images and the labels\n",
        "\n",
        "path_images=sorted(glob.glob(\"KITTI_dataset/Imgs/*.png\"))\n",
        "path_labels=sorted(glob.glob(\"KITTI_dataset/labels/*.txt\"))\n",
        "\n",
        "#images=np.empty((375,1242))\n",
        "images=[]\n",
        "labels=[]\n",
        "dataset=[]\n",
        "\n",
        "for i in path_images:\n",
        "  img=cv.imread(i)\n",
        "  images.append(img)\n",
        "\n",
        "print(\"Size of images:\",str(len(images)))\n",
        "\n"
      ]
    },
    {
      "cell_type": "code",
      "execution_count": 6,
      "metadata": {
        "colab": {
          "base_uri": "https://localhost:8080/"
        },
        "id": "rQNwWwV_5Ac0",
        "outputId": "df5b50b3-5617-4355-ffce-fc6b124d89f3"
      },
      "outputs": [
        {
          "name": "stdout",
          "output_type": "stream",
          "text": [
            "Size of dataset: 2500\n",
            "Size of dataset: 2500\n"
          ]
        }
      ],
      "source": [
        "\n",
        "dataset_images=[]\n",
        "dataset_labels=[]\n",
        "aux=0\n",
        "for j in range(500):\n",
        "  image=np.array(images[j])\n",
        "  himage,wimage,channels=image.shape\n",
        "  labeltxt=np.loadtxt(path_labels[j])\n",
        "  dados= labeltxt.ravel()\n",
        "  # print(\"dados:\", dados)\n",
        "  aux+=len(dados)/5\n",
        "  for i in range(0,len(dados),5): \n",
        "    \n",
        "    label=dados[i]\n",
        "\n",
        "    xcentric= dados[i+1]\n",
        "    ycentric= dados[i+2]\n",
        "\n",
        "    width= dados[i+3]\n",
        "    heigth= dados[i+4]\n",
        "\n",
        "    # print(\"label\",label,\"\\nxcentric:\", xcentric,\"ycentric:\",ycentric,\"width:\", width,\"heigth:\",heigth)\n",
        "\n",
        "    #math.floor\n",
        "    x1n=float(xcentric) - (float(width)/2)\n",
        "    y1n=float(ycentric) - (float(heigth)/2)\n",
        "\n",
        "    x2n=float(xcentric) + (float(width)/2)\n",
        "    y2n=float(ycentric) + (float(heigth)/2)\n",
        "\n",
        "    x1=math.floor(x1n*wimage)\n",
        "    y1=math.floor(y1n*himage)\n",
        "    x2=math.floor(x2n*wimage)\n",
        "    y2=math.floor(y2n*himage)\n",
        "\n",
        "    # print(\"x1\", x1,\"y1\",y1,\"x2:\", x2,\"y2\",y2)\n",
        "\n",
        "    cropimage=image[y1:y2,x1:x2,:]\n",
        "    # print(\"\\n Debug-> bounding box:\")\n",
        "    # print(\"cropimage:\\n\", cropimage)\n",
        "    \n",
        "    cropimage=cv.resize(cropimage, dsize=(64, 64), interpolation=cv.INTER_CUBIC)\n",
        "    \n",
        "    # print(\"\\n Debug crop image size:\")\n",
        "    # print(cropimage.shape)\n",
        "\n",
        "    dataset_images.append(cropimage)\n",
        "    dataset_labels.append(label)\n",
        "    # print(\"\\n Debug-> verificar se tem a label e imagem:\")\n",
        "    # print(\"Debug lenght dataset:\", len(dataset_images))\n",
        "    # print(\"\\n degub label:\",dataset_labels)\n",
        "\n",
        "    \n",
        "\n",
        "\n",
        "\n",
        "print(\"Size of dataset:\",str(len(dataset_images)))\n",
        "print(\"Size of dataset:\",str(len(dataset_labels)))\n",
        "\n",
        "with open('dataset.pickle', 'wb') as f:\n",
        "    pickle.dump([dataset_labels,dataset_images], f)\n",
        "\n",
        "\n"
      ]
    },
    {
      "cell_type": "code",
      "execution_count": 7,
      "metadata": {
        "id": "JZ5DLT_4Powh"
      },
      "outputs": [],
      "source": [
        "\n",
        "class Dataset (data.Dataset):\n",
        "  def __init__ (self , images , labels):\n",
        "    self.images = images\n",
        "    self.labels = labels\n",
        "  def __len__ ( self ):\n",
        "    return len( self.images )\n",
        "  def __getitem__ (self , index ):\n",
        "    img = np.array(self.images[index])\n",
        "    img= transforms.ToTensor()(img)\n",
        "    label = self.labels [ index ]\n",
        "    return img , label"
      ]
    },
    {
      "cell_type": "markdown",
      "metadata": {
        "id": "Rrq2-z60QJDw"
      },
      "source": []
    },
    {
      "cell_type": "code",
      "execution_count": 8,
      "metadata": {
        "colab": {
          "base_uri": "https://localhost:8080/",
          "height": 1000,
          "referenced_widgets": [
            "616cc49d09ff4588b7a90044b3042b39",
            "992912ac8a594c8a92c05e7b8400cc82",
            "00f3ef8a600c4fb68993f7c8adad8b6c",
            "e977acc472f449fe8a2cd5265651f1f6",
            "ffcbe856de3243e1a61cbc08c5cb3d4a",
            "dd1cfb6c5e364eb391513e22d70ddd28",
            "cc270aedfde34fb682dbb59d04eddfc2",
            "355f00921be14db586edbda9df5b0ec5",
            "bb83260514874c1aafb57e26ae67e067",
            "38619921f49843afab67719b44c4ec46",
            "b1bbd5b884b54828bec5f032671bc12e"
          ]
        },
        "id": "bKwNuA_JQIvJ",
        "outputId": "0f26afaa-30a3-41bd-d928-da8ce0405be8"
      },
      "outputs": [
        {
          "name": "stdout",
          "output_type": "stream",
          "text": [
            "\n",
            "The model will run on cuda\n"
          ]
        },
        {
          "name": "stderr",
          "output_type": "stream",
          "text": [
            "/usr/local/lib/python3.7/dist-packages/torchvision/models/_utils.py:209: UserWarning: The parameter 'pretrained' is deprecated since 0.13 and will be removed in 0.15, please use 'weights' instead.\n",
            "  f\"The parameter '{pretrained_param}' is deprecated since 0.13 and will be removed in 0.15, \"\n",
            "/usr/local/lib/python3.7/dist-packages/torchvision/models/_utils.py:223: UserWarning: Arguments other than a weight enum or `None` for 'weights' are deprecated since 0.13 and will be removed in 0.15. The current behavior is equivalent to passing `weights=MobileNet_V2_Weights.IMAGENET1K_V1`. You can also use `weights=MobileNet_V2_Weights.DEFAULT` to get the most up-to-date weights.\n",
            "  warnings.warn(msg)\n",
            "Downloading: \"https://download.pytorch.org/models/mobilenet_v2-b0353104.pth\" to /root/.cache/torch/hub/checkpoints/mobilenet_v2-b0353104.pth\n"
          ]
        },
        {
          "data": {
            "application/vnd.jupyter.widget-view+json": {
              "model_id": "616cc49d09ff4588b7a90044b3042b39",
              "version_major": 2,
              "version_minor": 0
            },
            "text/plain": [
              "  0%|          | 0.00/13.6M [00:00<?, ?B/s]"
            ]
          },
          "metadata": {},
          "output_type": "display_data"
        },
        {
          "name": "stdout",
          "output_type": "stream",
          "text": [
            "\n",
            "\n",
            "\n",
            "----------------------------------------------------------------\n",
            "        Layer (type)               Output Shape         Param #\n",
            "================================================================\n",
            "            Conv2d-1            [5, 32, 16, 16]             864\n",
            "       BatchNorm2d-2            [5, 32, 16, 16]              64\n",
            "             ReLU6-3            [5, 32, 16, 16]               0\n",
            "            Conv2d-4            [5, 32, 16, 16]             288\n",
            "       BatchNorm2d-5            [5, 32, 16, 16]              64\n",
            "             ReLU6-6            [5, 32, 16, 16]               0\n",
            "            Conv2d-7            [5, 16, 16, 16]             512\n",
            "       BatchNorm2d-8            [5, 16, 16, 16]              32\n",
            "  InvertedResidual-9            [5, 16, 16, 16]               0\n",
            "           Conv2d-10            [5, 96, 16, 16]           1,536\n",
            "      BatchNorm2d-11            [5, 96, 16, 16]             192\n",
            "            ReLU6-12            [5, 96, 16, 16]               0\n",
            "           Conv2d-13              [5, 96, 8, 8]             864\n",
            "      BatchNorm2d-14              [5, 96, 8, 8]             192\n",
            "            ReLU6-15              [5, 96, 8, 8]               0\n",
            "           Conv2d-16              [5, 24, 8, 8]           2,304\n",
            "      BatchNorm2d-17              [5, 24, 8, 8]              48\n",
            " InvertedResidual-18              [5, 24, 8, 8]               0\n",
            "           Conv2d-19             [5, 144, 8, 8]           3,456\n",
            "      BatchNorm2d-20             [5, 144, 8, 8]             288\n",
            "            ReLU6-21             [5, 144, 8, 8]               0\n",
            "           Conv2d-22             [5, 144, 8, 8]           1,296\n",
            "      BatchNorm2d-23             [5, 144, 8, 8]             288\n",
            "            ReLU6-24             [5, 144, 8, 8]               0\n",
            "           Conv2d-25              [5, 24, 8, 8]           3,456\n",
            "      BatchNorm2d-26              [5, 24, 8, 8]              48\n",
            " InvertedResidual-27              [5, 24, 8, 8]               0\n",
            "           Conv2d-28             [5, 144, 8, 8]           3,456\n",
            "      BatchNorm2d-29             [5, 144, 8, 8]             288\n",
            "            ReLU6-30             [5, 144, 8, 8]               0\n",
            "           Conv2d-31             [5, 144, 4, 4]           1,296\n",
            "      BatchNorm2d-32             [5, 144, 4, 4]             288\n",
            "            ReLU6-33             [5, 144, 4, 4]               0\n",
            "           Conv2d-34              [5, 32, 4, 4]           4,608\n",
            "      BatchNorm2d-35              [5, 32, 4, 4]              64\n",
            " InvertedResidual-36              [5, 32, 4, 4]               0\n",
            "           Conv2d-37             [5, 192, 4, 4]           6,144\n",
            "      BatchNorm2d-38             [5, 192, 4, 4]             384\n",
            "            ReLU6-39             [5, 192, 4, 4]               0\n",
            "           Conv2d-40             [5, 192, 4, 4]           1,728\n",
            "      BatchNorm2d-41             [5, 192, 4, 4]             384\n",
            "            ReLU6-42             [5, 192, 4, 4]               0\n",
            "           Conv2d-43              [5, 32, 4, 4]           6,144\n",
            "      BatchNorm2d-44              [5, 32, 4, 4]              64\n",
            " InvertedResidual-45              [5, 32, 4, 4]               0\n",
            "           Conv2d-46             [5, 192, 4, 4]           6,144\n",
            "      BatchNorm2d-47             [5, 192, 4, 4]             384\n",
            "            ReLU6-48             [5, 192, 4, 4]               0\n",
            "           Conv2d-49             [5, 192, 4, 4]           1,728\n",
            "      BatchNorm2d-50             [5, 192, 4, 4]             384\n",
            "            ReLU6-51             [5, 192, 4, 4]               0\n",
            "           Conv2d-52              [5, 32, 4, 4]           6,144\n",
            "      BatchNorm2d-53              [5, 32, 4, 4]              64\n",
            " InvertedResidual-54              [5, 32, 4, 4]               0\n",
            "           Conv2d-55             [5, 192, 4, 4]           6,144\n",
            "      BatchNorm2d-56             [5, 192, 4, 4]             384\n",
            "            ReLU6-57             [5, 192, 4, 4]               0\n",
            "           Conv2d-58             [5, 192, 2, 2]           1,728\n",
            "      BatchNorm2d-59             [5, 192, 2, 2]             384\n",
            "            ReLU6-60             [5, 192, 2, 2]               0\n",
            "           Conv2d-61              [5, 64, 2, 2]          12,288\n",
            "      BatchNorm2d-62              [5, 64, 2, 2]             128\n",
            " InvertedResidual-63              [5, 64, 2, 2]               0\n",
            "           Conv2d-64             [5, 384, 2, 2]          24,576\n",
            "      BatchNorm2d-65             [5, 384, 2, 2]             768\n",
            "            ReLU6-66             [5, 384, 2, 2]               0\n",
            "           Conv2d-67             [5, 384, 2, 2]           3,456\n",
            "      BatchNorm2d-68             [5, 384, 2, 2]             768\n",
            "            ReLU6-69             [5, 384, 2, 2]               0\n",
            "           Conv2d-70              [5, 64, 2, 2]          24,576\n",
            "      BatchNorm2d-71              [5, 64, 2, 2]             128\n",
            " InvertedResidual-72              [5, 64, 2, 2]               0\n",
            "           Conv2d-73             [5, 384, 2, 2]          24,576\n",
            "      BatchNorm2d-74             [5, 384, 2, 2]             768\n",
            "            ReLU6-75             [5, 384, 2, 2]               0\n",
            "           Conv2d-76             [5, 384, 2, 2]           3,456\n",
            "      BatchNorm2d-77             [5, 384, 2, 2]             768\n",
            "            ReLU6-78             [5, 384, 2, 2]               0\n",
            "           Conv2d-79              [5, 64, 2, 2]          24,576\n",
            "      BatchNorm2d-80              [5, 64, 2, 2]             128\n",
            " InvertedResidual-81              [5, 64, 2, 2]               0\n",
            "           Conv2d-82             [5, 384, 2, 2]          24,576\n",
            "      BatchNorm2d-83             [5, 384, 2, 2]             768\n",
            "            ReLU6-84             [5, 384, 2, 2]               0\n",
            "           Conv2d-85             [5, 384, 2, 2]           3,456\n",
            "      BatchNorm2d-86             [5, 384, 2, 2]             768\n",
            "            ReLU6-87             [5, 384, 2, 2]               0\n",
            "           Conv2d-88              [5, 64, 2, 2]          24,576\n",
            "      BatchNorm2d-89              [5, 64, 2, 2]             128\n",
            " InvertedResidual-90              [5, 64, 2, 2]               0\n",
            "           Conv2d-91             [5, 384, 2, 2]          24,576\n",
            "      BatchNorm2d-92             [5, 384, 2, 2]             768\n",
            "            ReLU6-93             [5, 384, 2, 2]               0\n",
            "           Conv2d-94             [5, 384, 2, 2]           3,456\n",
            "      BatchNorm2d-95             [5, 384, 2, 2]             768\n",
            "            ReLU6-96             [5, 384, 2, 2]               0\n",
            "           Conv2d-97              [5, 96, 2, 2]          36,864\n",
            "      BatchNorm2d-98              [5, 96, 2, 2]             192\n",
            " InvertedResidual-99              [5, 96, 2, 2]               0\n",
            "          Conv2d-100             [5, 576, 2, 2]          55,296\n",
            "     BatchNorm2d-101             [5, 576, 2, 2]           1,152\n",
            "           ReLU6-102             [5, 576, 2, 2]               0\n",
            "          Conv2d-103             [5, 576, 2, 2]           5,184\n",
            "     BatchNorm2d-104             [5, 576, 2, 2]           1,152\n",
            "           ReLU6-105             [5, 576, 2, 2]               0\n",
            "          Conv2d-106              [5, 96, 2, 2]          55,296\n",
            "     BatchNorm2d-107              [5, 96, 2, 2]             192\n",
            "InvertedResidual-108              [5, 96, 2, 2]               0\n",
            "          Conv2d-109             [5, 576, 2, 2]          55,296\n",
            "     BatchNorm2d-110             [5, 576, 2, 2]           1,152\n",
            "           ReLU6-111             [5, 576, 2, 2]               0\n",
            "          Conv2d-112             [5, 576, 2, 2]           5,184\n",
            "     BatchNorm2d-113             [5, 576, 2, 2]           1,152\n",
            "           ReLU6-114             [5, 576, 2, 2]               0\n",
            "          Conv2d-115              [5, 96, 2, 2]          55,296\n",
            "     BatchNorm2d-116              [5, 96, 2, 2]             192\n",
            "InvertedResidual-117              [5, 96, 2, 2]               0\n",
            "          Conv2d-118             [5, 576, 2, 2]          55,296\n",
            "     BatchNorm2d-119             [5, 576, 2, 2]           1,152\n",
            "           ReLU6-120             [5, 576, 2, 2]               0\n",
            "          Conv2d-121             [5, 576, 1, 1]           5,184\n",
            "     BatchNorm2d-122             [5, 576, 1, 1]           1,152\n",
            "           ReLU6-123             [5, 576, 1, 1]               0\n",
            "          Conv2d-124             [5, 160, 1, 1]          92,160\n",
            "     BatchNorm2d-125             [5, 160, 1, 1]             320\n",
            "InvertedResidual-126             [5, 160, 1, 1]               0\n",
            "          Conv2d-127             [5, 960, 1, 1]         153,600\n",
            "     BatchNorm2d-128             [5, 960, 1, 1]           1,920\n",
            "           ReLU6-129             [5, 960, 1, 1]               0\n",
            "          Conv2d-130             [5, 960, 1, 1]           8,640\n",
            "     BatchNorm2d-131             [5, 960, 1, 1]           1,920\n",
            "           ReLU6-132             [5, 960, 1, 1]               0\n",
            "          Conv2d-133             [5, 160, 1, 1]         153,600\n",
            "     BatchNorm2d-134             [5, 160, 1, 1]             320\n",
            "InvertedResidual-135             [5, 160, 1, 1]               0\n",
            "          Conv2d-136             [5, 960, 1, 1]         153,600\n",
            "     BatchNorm2d-137             [5, 960, 1, 1]           1,920\n",
            "           ReLU6-138             [5, 960, 1, 1]               0\n",
            "          Conv2d-139             [5, 960, 1, 1]           8,640\n",
            "     BatchNorm2d-140             [5, 960, 1, 1]           1,920\n",
            "           ReLU6-141             [5, 960, 1, 1]               0\n",
            "          Conv2d-142             [5, 160, 1, 1]         153,600\n",
            "     BatchNorm2d-143             [5, 160, 1, 1]             320\n",
            "InvertedResidual-144             [5, 160, 1, 1]               0\n",
            "          Conv2d-145             [5, 960, 1, 1]         153,600\n",
            "     BatchNorm2d-146             [5, 960, 1, 1]           1,920\n",
            "           ReLU6-147             [5, 960, 1, 1]               0\n",
            "          Conv2d-148             [5, 960, 1, 1]           8,640\n",
            "     BatchNorm2d-149             [5, 960, 1, 1]           1,920\n",
            "           ReLU6-150             [5, 960, 1, 1]               0\n",
            "          Conv2d-151             [5, 320, 1, 1]         307,200\n",
            "     BatchNorm2d-152             [5, 320, 1, 1]             640\n",
            "InvertedResidual-153             [5, 320, 1, 1]               0\n",
            "          Conv2d-154            [5, 1280, 1, 1]         409,600\n",
            "     BatchNorm2d-155            [5, 1280, 1, 1]           2,560\n",
            "           ReLU6-156            [5, 1280, 1, 1]               0\n",
            "         Dropout-157                  [5, 1280]               0\n",
            "          Linear-158                     [5, 3]           3,843\n",
            "================================================================\n",
            "Total params: 2,227,715\n",
            "Trainable params: 2,227,715\n",
            "Non-trainable params: 0\n",
            "----------------------------------------------------------------\n",
            "Input size (MB): 0.06\n",
            "Forward/backward pass size (MB): 15.65\n",
            "Params size (MB): 8.50\n",
            "Estimated Total Size (MB): 24.20\n",
            "----------------------------------------------------------------\n"
          ]
        }
      ],
      "source": [
        "device = torch.device(\"cuda\" if torch.cuda.is_available() else \"cpu\") \n",
        "print('\\nThe model will run on', device)\n",
        "cnn_model = models.mobilenet_v2(pretrained=True)#mobilenet_v2\n",
        "\n",
        "# for param in cnn_model.parameters ():\n",
        "#   param.requires_grad = False\n",
        "\n",
        "cnn_model.classifier = nn.Sequential(\n",
        "    nn.Dropout(p=0.2, inplace= False),\n",
        "    nn.Linear(in_features=1280, out_features=3,bias=True)\n",
        ")\n",
        "\n",
        "cnn_model=cnn_model.to(device)\n",
        "\n",
        "\n",
        "# Using the torchsummary, you can check your network in more detail\n",
        "import torchsummary\n",
        "print(\"\\n\\n\")\n",
        "torchsummary.summary(cnn_model, input_size = (3, 32, 32), batch_size = 5) \n"
      ]
    },
    {
      "cell_type": "code",
      "execution_count": 9,
      "metadata": {
        "colab": {
          "base_uri": "https://localhost:8080/"
        },
        "id": "recElJ5nNnDE",
        "outputId": "44576b7b-8e26-42c7-b217-6cfed6d91f93"
      },
      "outputs": [
        {
          "name": "stdout",
          "output_type": "stream",
          "text": [
            "Number of images in original training set: 2000\n",
            "Split Number: 400\n",
            "Number of training images: 1600\n",
            "Number of validation images: 400\n",
            "Number of images in the testing set: 500\n"
          ]
        }
      ],
      "source": [
        "with open('dataset.pickle','rb') as f:\n",
        "    data_lab,data_img = pickle.load(f)\n",
        "\n",
        "dataset=Dataset(images= data_img,labels= data_lab)\n",
        "\n",
        "# transform_train2= tt.Compose([tt.ToTensor(),\n",
        "#                               tt.Normalize((0.5, 0.5, 0.5), (0.5, 0.5, 0.5))])\n",
        "\n",
        "# transform_train = tt.Compose([tt.ToTensor(),\n",
        "#                               tt.Normalize((0.5, 0.5, 0.5), (0.5, 0.5, 0.5)), #Normalize all the images\n",
        "#                               tt.RandomInvert(0.5),       \n",
        "#                               tt.RandomHorizontalFlip(0.5),       #Flips the image horizontal axis\n",
        "#                               tt.RandomRotation((-45,45))#Rotates the image to a specified angel \n",
        "                                                         \n",
        "#                               ])\n",
        "\n",
        "# #tt.ColorJitter(0.2,0.2,0.3,0.3), #brightness, contrast , saturation, hue  \n",
        "# transform = tt.Compose([tt.Resize((32,32)),\n",
        "#                          tt.ToTensor(),\n",
        "#                          tt.Normalize((0.5, 0.5, 0.5), (0.5, 0.5, 0.5))\n",
        "#                        ])\n",
        "\n",
        "#transform = tt. ToTensor ()\n",
        "train_size = int(0.8 * len(dataset))\n",
        "test_size = len(dataset) - train_size\n",
        "training_data, testing_data = torch.utils.data.random_split(dataset, [train_size, test_size])\n",
        "\n",
        "# Lets start to obtain training indices\n",
        "num_train = len(training_data)\n",
        "print(\"Number of images in original training set: \" + str(num_train)) # 60 000\n",
        "indices = list(range(num_train))\n",
        "\n",
        "# Randomly Shuffle\n",
        "np.random.shuffle(indices)\n",
        "\n",
        "# Split 80%/20%\n",
        "split = int(np.floor(num_train * 0.2)) # 12 000\n",
        "print(\"Split Number: \" + str(split))\n",
        "training_idx, valid_idx = indices[split:], indices[:split] # 48 000 / 12 000\n",
        "print(\"Number of training images: \" + str(len(training_idx)))\n",
        "print(\"Number of validation images: \" + str(len(valid_idx)))\n",
        "\n",
        "# Lets also see how many images are on testing set\n",
        "print(\"Number of images in the testing set: \" + str(len(testing_data))) # 10 000"
      ]
    },
    {
      "cell_type": "markdown",
      "metadata": {
        "id": "CreITu05RMxo"
      },
      "source": []
    },
    {
      "cell_type": "code",
      "execution_count": 10,
      "metadata": {
        "id": "vu9mMdlgRNS6"
      },
      "outputs": [],
      "source": [
        "\n",
        "from torch.utils.data.sampler import SubsetRandomSampler # Sampler\n",
        "# To train the network, you must \"encode\" the data into a PyTorch dataloader\n",
        "# Since you divided the original training set in 2, now you need to assign the indices to the samples\n",
        "training_sampler = SubsetRandomSampler(training_idx)\n",
        "valid_sampler = SubsetRandomSampler(valid_idx)\n",
        "\n",
        "\n",
        "batch_size = 16 # 100 images per batch and per epoch\n",
        "\n",
        "# Training Set\n",
        "training_loader = torch.utils.data.DataLoader(dataset = training_data, \\\n",
        "                                              batch_size = batch_size, \\\n",
        "                                              sampler = training_sampler)\n",
        "\n",
        "# Validation Set\n",
        "valid_loader = torch.utils.data.DataLoader(dataset = training_data, \\\n",
        "                                           batch_size = batch_size, \\\n",
        "                                           sampler = valid_sampler)\n",
        "\n",
        "# Testing Set\n",
        "# Here, you do not need the \"sampler\" input, since you did not change the original testing set\n",
        "testing_loader = torch.utils.data.DataLoader(dataset = testing_data, \\\n",
        "                                           batch_size = batch_size, \\\n",
        "                                           shuffle = True)\n",
        "classes = ['car','person','cyclist']"
      ]
    },
    {
      "cell_type": "markdown",
      "metadata": {
        "id": "jDPGwD5eRRNb"
      },
      "source": []
    },
    {
      "cell_type": "code",
      "execution_count": 11,
      "metadata": {
        "id": "DLytdoirRRw1"
      },
      "outputs": [],
      "source": [
        "# Library imports\n",
        "import torch.optim as optim\n",
        "import tensorflow as tf"
      ]
    },
    {
      "cell_type": "code",
      "execution_count": 12,
      "metadata": {
        "colab": {
          "base_uri": "https://localhost:8080/"
        },
        "id": "L6y1T1wQRSeX",
        "outputId": "10af55f2-30d2-4aae-9694-7fb914e54789"
      },
      "outputs": [
        {
          "name": "stdout",
          "output_type": "stream",
          "text": [
            "(Validation Set) Epoch: 1 Loss: 0.03718801125884056 Acc: 83.0\n",
            "Epoch-0 lr: 0.0001\n",
            "(Validation Set) Epoch: 2 Loss: 0.019493276625871657 Acc: 92.25\n",
            "Epoch-1 lr: 0.0001\n",
            "(Validation Set) Epoch: 3 Loss: 0.017081427536904812 Acc: 90.0\n",
            "Epoch-2 lr: 0.0001\n",
            "(Validation Set) Epoch: 4 Loss: 0.011592327523976565 Acc: 93.25\n",
            "Epoch-3 lr: 0.0001\n",
            "(Validation Set) Epoch: 5 Loss: 0.010143864853307604 Acc: 94.25\n",
            "Epoch-4 lr: 0.0001\n",
            "(Validation Set) Epoch: 6 Loss: 0.01270480901002884 Acc: 93.25\n",
            "Epoch-5 lr: 0.0001\n",
            "(Validation Set) Epoch: 7 Loss: 0.008853576239198446 Acc: 95.25\n",
            "Epoch-6 lr: 0.0001\n",
            "(Validation Set) Epoch: 8 Loss: 0.009573561369907111 Acc: 94.75\n",
            "Epoch-7 lr: 0.0001\n",
            "(Validation Set) Epoch: 9 Loss: 0.011313403255771846 Acc: 93.5\n",
            "Epoch-8 lr: 0.0001\n",
            "(Validation Set) Epoch: 10 Loss: 0.007924552066251636 Acc: 95.5\n",
            "Epoch-9 lr: 0.0001\n",
            "(Validation Set) Epoch: 11 Loss: 0.007922039206605405 Acc: 96.5\n",
            "Epoch-10 lr: 0.0001\n",
            "(Validation Set) Epoch: 12 Loss: 0.010946077762637287 Acc: 94.0\n",
            "Epoch-11 lr: 0.0001\n",
            "(Validation Set) Epoch: 13 Loss: 0.008495920271379874 Acc: 95.5\n",
            "Epoch-12 lr: 0.0001\n",
            "(Validation Set) Epoch: 14 Loss: 0.009709853709209711 Acc: 96.25\n",
            "Epoch-13 lr: 0.0001\n",
            "(Validation Set) Epoch: 15 Loss: 0.010208660492207856 Acc: 95.5\n",
            "Epoch-14 lr: 0.0001\n",
            "(Validation Set) Epoch: 16 Loss: 0.010223108492791653 Acc: 94.25\n",
            "Epoch-15 lr: 0.0001\n",
            "(Validation Set) Epoch: 17 Loss: 0.009128098394721746 Acc: 96.0\n",
            "Epoch-16 lr: 0.0001\n",
            "(Validation Set) Epoch: 18 Loss: 0.009164516244200059 Acc: 95.75\n",
            "Epoch-17 lr: 0.0001\n",
            "(Validation Set) Epoch: 19 Loss: 0.00874142133339774 Acc: 96.0\n",
            "Epoch-18 lr: 0.0001\n",
            "(Validation Set) Epoch: 20 Loss: 0.010191416025045329 Acc: 94.5\n",
            "Epoch-19 lr: 0.0001\n",
            "Training is completed!\n"
          ]
        }
      ],
      "source": [
        "# To train a CNN, you must choose (or develop) a loss function, an optimizer algorithm, and a set of hyper-parameters (learning rate, number of epochs, etc)\n",
        "# Hyper-parameters\n",
        "\n",
        "num_epochs = 20\n",
        "loss_values = []\n",
        "lr=0.0001 \n",
        "\n",
        "# Loss Function\n",
        "criterion = nn.CrossEntropyLoss() # Cross entropy loss function is widely used in classification problems\n",
        "\n",
        "\n",
        "# Optimizer Algorithm\n",
        "#optimizer = optim.Adam(cnn_model.parameters(), lr = lr)\n",
        "optimizer = optim.RAdam(cnn_model.parameters(), lr = lr)\n",
        "#optimizer =optim.RMSprop(cnn_model.parameters(),lr=lr)\n",
        "\n",
        "# Training\n",
        "running_loss = 0.0\n",
        "training_loss =0.0\n",
        "\n",
        "y_valid= list()\n",
        "y_train= list()\n",
        "#adaptive learning rate\n",
        "# scheduler = optim.lr_scheduler.ReduceLROnPlateau(optimizer,mode='max',factor=0.1,patience=4)\n",
        "\n",
        "for epoch in range(num_epochs):\n",
        "  \n",
        "  for batch_id, data in enumerate(training_loader, 0):\n",
        "    \n",
        "    #Get the images and their labels\n",
        "    images, labels = data\n",
        "    # Send the images and their labels to the training device\n",
        "    \n",
        "\n",
        "    images=images.type(torch.FloatTensor)\n",
        "    labels=labels.type(torch.LongTensor)\n",
        "\n",
        "    images, labels = images.to(device), labels.to(device)\n",
        "\n",
        "\n",
        "\n",
        "    # Pass images through the CNN\n",
        "    outputs = cnn_model(images)\n",
        "\n",
        "    # Create a loss value\n",
        "    loss = criterion(outputs, labels)\n",
        "\n",
        "    # Backpropagation\n",
        "    optimizer.zero_grad() # zero the parameter gradients\n",
        "    loss.backward()\n",
        "    optimizer.step()\n",
        "\n",
        "    # Check some statistics\n",
        "    training_loss+= loss.item()\n",
        "    running_loss += loss.item()\n",
        "    if batch_id % 1000 == 999: # prints every 1000 batchs\n",
        "      print('[%d, %5d] loss: %.3f' % (epoch + 1, batch_id + 1, running_loss / 1000))\n",
        "      running_loss = 0.0\n",
        "    \n",
        "  y_train.append(training_loss/(len(training_idx)/batch_size))\n",
        "  training_loss=0.0\n",
        "  \n",
        "  # For each epoch, analize the model performance\n",
        "  valid_correct = 0\n",
        "  valid_total = 0\n",
        "  valid_total_loss = 0\n",
        "  with torch.no_grad(): # In this part, you will not train, so you don't need to calculate gradients\n",
        "    for valid_batch_id, valid_data in enumerate(valid_loader, 0):\n",
        "      valid_images, valid_labels = valid_data\n",
        "      valid_images, valid_labels = valid_images.to(device), valid_labels.to(device)\n",
        "      valid_outputs = cnn_model(valid_images)\n",
        "\n",
        "      valid_outputs=valid_outputs.type(torch.FloatTensor)\n",
        "      valid_labels=valid_labels.type(torch.LongTensor)\n",
        "\n",
        "      valid_loss = criterion(valid_outputs, valid_labels)\n",
        "      valid_total_loss += valid_loss.item()\n",
        "      _, valid_predicted = torch.max(valid_outputs.data, 1)\n",
        "      valid_total += valid_labels.size(0)\n",
        "      valid_correct += (valid_predicted == valid_labels).sum().item()\n",
        "  \n",
        "  validation_loss= valid_total_loss/len(valid_idx)\n",
        "  loss_values.append(validation_loss)\n",
        "  y_valid.append(valid_total_loss/(len(valid_idx)/batch_size))\n",
        "  print(\"(Validation Set) Epoch: \" + str(epoch + 1) + \" Loss: \" + str(valid_total_loss/ len(valid_idx)) + \" Acc: \" + str(100*valid_correct/valid_total))\n",
        "  print('Epoch-{0} lr: {1}'.format(epoch, optimizer.param_groups[0]['lr']))\n",
        "  # scheduler.step(loss)\n",
        "\n",
        "\n",
        "print(\"Training is completed!\")"
      ]
    },
    {
      "cell_type": "markdown",
      "metadata": {
        "id": "41EF49TJRXGh"
      },
      "source": []
    },
    {
      "cell_type": "code",
      "execution_count": 13,
      "metadata": {
        "colab": {
          "base_uri": "https://localhost:8080/",
          "height": 295
        },
        "id": "pFByUlBkRhsX",
        "outputId": "57523c54-a71a-44c4-c859-0731db6b1559"
      },
      "outputs": [
        {
          "data": {
            "image/png": "[encoded data removed]",
            "text/plain": [
              "<Figure size 432x288 with 1 Axes>"
            ]
          },
          "metadata": {
            "needs_background": "light"
          },
          "output_type": "display_data"
        }
      ],
      "source": [
        "plt.plot(loss_values)\n",
        "plt.xlabel (\"Epoch\")\n",
        "plt.ylabel (\"Loss\")\n",
        "plt.title (\"Performance of Model\")\n",
        "plt.show()"
      ]
    },
    {
      "cell_type": "code",
      "execution_count": 14,
      "metadata": {
        "colab": {
          "base_uri": "https://localhost:8080/",
          "height": 283
        },
        "id": "qxJ8ijuIRvMg",
        "outputId": "497d941d-3d18-40db-a2a0-6a4bd179450e"
      },
      "outputs": [
        {
          "data": {
            "image/png": "[encoded data removed]",
            "text/plain": [
              "<Figure size 432x288 with 1 Axes>"
            ]
          },
          "metadata": {
            "needs_background": "light"
          },
          "output_type": "display_data"
        }
      ],
      "source": [
        "# plot  \n",
        "x = list(range(1, num_epochs+1))\n",
        "plt.plot(x, y_valid, 'bo-', label ='validation set')\n",
        "plt.plot(x, y_train, 'go-', label ='training set')\n",
        "\n",
        "plt.xlabel(\"Epochs\")\n",
        "plt.ylabel(\"Loss\")\n",
        "  \n",
        "# Function add a legend  \n",
        "plt.legend()\n",
        "  \n",
        "# function to show the plot\n",
        "plt.show()"
      ]
    },
    {
      "cell_type": "markdown",
      "metadata": {
        "id": "8uUe71sMR0NZ"
      },
      "source": []
    },
    {
      "cell_type": "code",
      "execution_count": 15,
      "metadata": {
        "colab": {
          "base_uri": "https://localhost:8080/",
          "height": 609
        },
        "id": "LyCTr6j9R0zX",
        "outputId": "dbe9fdd5-9588-4375-fe97-b6de956a480c"
      },
      "outputs": [
        {
          "name": "stdout",
          "output_type": "stream",
          "text": [
            "Accuracy using 500 test images: 95.8 %\n",
            "\n",
            "Accuracy of  0 : 98 % in 413 Images\n",
            "Accuracy of  1 : 87 % in 55 Images\n",
            "Accuracy of  2 : 71 % in 32 Images\n",
            "\n",
            " Mean class accuracy:85.97902450656687%\n",
            "\n",
            "Confusion Matrix\n",
            "[[408   4   3]\n",
            " [  5  48   6]\n",
            " [  0   3  23]]\n",
            "\n",
            "\n"
          ]
        },
        {
          "data": {
            "image/png": "[encoded data removed]",
            "text/plain": [
              "<Figure size 432x288 with 2 Axes>"
            ]
          },
          "metadata": {
            "needs_background": "light"
          },
          "output_type": "display_data"
        },
        {
          "name": "stdout",
          "output_type": "stream",
          "text": [
            "\n",
            "Global F1 score:100.0\n",
            "Mean F1 score:100.0\n",
            "Mean precision:100.0\n",
            "Mean recall 100.0\n"
          ]
        }
      ],
      "source": [
        "from sklearn.metrics import confusion_matrix\n",
        "from sklearn.metrics import f1_score\n",
        "from sklearn.metrics import recall_score\n",
        "from sklearn.metrics import precision_score\n",
        "from sklearn.metrics import ConfusionMatrixDisplay\n",
        "# Evaluate a CNN is similar to the training process without the backpropagation.\n",
        "# To evaluate a CNN, we need to follow the evaluation metrics\n",
        "num_classes = 3\n",
        "correct = 0\n",
        "total = 0\n",
        "class_correct = list(0. for i in range(num_classes))\n",
        "class_total = list(0. for i in range(num_classes))\n",
        "conf_matrix =[[0 for x in range(num_classes)] for y in range(num_classes)]\n",
        "\n",
        "cnn_model.eval()\n",
        "\n",
        "with torch.no_grad(): # You are not training, so you don't need to calculate gradients\n",
        "  for batch_id, data in enumerate(testing_loader, 0):\n",
        "    # Get the images and their labels\n",
        "    images, labels = data\n",
        "    # Send the images and their labels to the training device\n",
        "    images=images.type(torch.FloatTensor)\n",
        "    labels=labels.type(torch.LongTensor)\n",
        "    images, labels = images.to(device), labels.to(device)\n",
        "\n",
        "    # Calculate the CNN's predictions by running images through the network\n",
        "    outputs = cnn_model(images)\n",
        "\n",
        "    # The class with the highest\n",
        "    _, predicted = torch.max(outputs.data, 1)\n",
        "\n",
        "    # Get model's performance\n",
        "    total += labels.size(0)\n",
        "    correct += (predicted == labels).sum().item()\n",
        "    c = (predicted == labels).squeeze()\n",
        "\n",
        "    for i in range(len(images)):  \n",
        "      label = labels[i]\n",
        "      class_correct[label] += c[i].item()\n",
        "      class_total[label] += 1\n",
        "\n",
        "    conf_matrix += confusion_matrix(predicted.cpu(),labels.cpu(),labels=[x for x in range(num_classes)])\n",
        "\n",
        "mean_accuracy=list()\n",
        "# Show model's performance\n",
        "print('Accuracy using {} test images: {} %\\n'.format(total,100 * correct / total))\n",
        "# Performance per Class\n",
        "for i in range(num_classes):\n",
        "  if class_total[i] == 0:\n",
        "    print('Accuracy of %2s : %2d %% in %d Images' % (i, 0, 0))\n",
        "  else:\n",
        "    print('Accuracy of %2s : %2d %% in %d Images' % (i, 100 * class_correct[i] / class_total[i], class_total[i]))\n",
        "    mean_accuracy.append(100*class_correct[i]/ class_total[i])\n",
        "\n",
        "\n",
        "mean_accuracy= sum(mean_accuracy)/ num_classes\n",
        "print(\"\\n Mean class accuracy:\"+str(mean_accuracy)+\"%\")\n",
        "\n",
        "\n",
        "# Confusion Matrix\n",
        "print('\\nConfusion Matrix')\n",
        "print(conf_matrix) \n",
        "\n",
        "print('\\n')\n",
        "conf_disp = ConfusionMatrixDisplay(confusion_matrix = conf_matrix, \n",
        "                       display_labels = classes)\n",
        "conf_disp.plot()\n",
        "plt.show()\n",
        "\n",
        "f1micro = f1_score(labels.cpu(),predicted.cpu(),average=\"micro\")\n",
        "f1mean = f1_score(labels.cpu(),predicted.cpu(),average=\"weighted\")\n",
        "precision=precision_score(labels.cpu(),predicted.cpu(),average=\"weighted\")\n",
        "recall=recall_score(labels.cpu(),predicted.cpu(),average=\"weighted\")\n",
        "\n",
        "\n",
        "print(\"\\nGlobal F1 score:\"+str(f1micro*100))\n",
        "print(\"Mean F1 score:\"+str(f1mean*100))\n",
        "print(\"Mean precision:\"+str(precision*100))\n",
        "print(\"Mean recall\", str(recall*100))\n"
      ]
    }
  ],
  "metadata": {
    "accelerator": "GPU",
    "colab": {
      "provenance": []
    },
    "gpuClass": "standard",
    "kernelspec": {
      "display_name": "Python 3",
      "name": "python3"
    },
    "language_info": {
      "name": "python"
    },
    "widgets": {
      "application/vnd.jupyter.widget-state+json": {
        "00f3ef8a600c4fb68993f7c8adad8b6c": {
          "model_module": "@jupyter-widgets/controls",
          "model_module_version": "1.5.0",
          "model_name": "FloatProgressModel",
          "state": {
            "_dom_classes": [],
            "_model_module": "@jupyter-widgets/controls",
            "_model_module_version": "1.5.0",
            "_model_name": "FloatProgressModel",
            "_view_count": null,
            "_view_module": "@jupyter-widgets/controls",
            "_view_module_version": "1.5.0",
            "_view_name": "ProgressView",
            "bar_style": "success",
            "description": "",
            "description_tooltip": null,
            "layout": "IPY_MODEL_355f00921be14db586edbda9df5b0ec5",
            "max": 14212972,
            "min": 0,
            "orientation": "horizontal",
            "style": "IPY_MODEL_bb83260514874c1aafb57e26ae67e067",
            "value": 14212972
          }
        },
        "355f00921be14db586edbda9df5b0ec5": {
          "model_module": "@jupyter-widgets/base",
          "model_module_version": "1.2.0",
          "model_name": "LayoutModel",
          "state": {
            "_model_module": "@jupyter-widgets/base",
            "_model_module_version": "1.2.0",
            "_model_name": "LayoutModel",
            "_view_count": null,
            "_view_module": "@jupyter-widgets/base",
            "_view_module_version": "1.2.0",
            "_view_name": "LayoutView",
            "align_content": null,
            "align_items": null,
            "align_self": null,
            "border": null,
            "bottom": null,
            "display": null,
            "flex": null,
            "flex_flow": null,
            "grid_area": null,
            "grid_auto_columns": null,
            "grid_auto_flow": null,
            "grid_auto_rows": null,
            "grid_column": null,
            "grid_gap": null,
            "grid_row": null,
            "grid_template_areas": null,
            "grid_template_columns": null,
            "grid_template_rows": null,
            "height": null,
            "justify_content": null,
            "justify_items": null,
            "left": null,
            "margin": null,
            "max_height": null,
            "max_width": null,
            "min_height": null,
            "min_width": null,
            "object_fit": null,
            "object_position": null,
            "order": null,
            "overflow": null,
            "overflow_x": null,
            "overflow_y": null,
            "padding": null,
            "right": null,
            "top": null,
            "visibility": null,
            "width": null
          }
        },
        "38619921f49843afab67719b44c4ec46": {
          "model_module": "@jupyter-widgets/base",
          "model_module_version": "1.2.0",
          "model_name": "LayoutModel",
          "state": {
            "_model_module": "@jupyter-widgets/base",
            "_model_module_version": "1.2.0",
            "_model_name": "LayoutModel",
            "_view_count": null,
            "_view_module": "@jupyter-widgets/base",
            "_view_module_version": "1.2.0",
            "_view_name": "LayoutView",
            "align_content": null,
            "align_items": null,
            "align_self": null,
            "border": null,
            "bottom": null,
            "display": null,
            "flex": null,
            "flex_flow": null,
            "grid_area": null,
            "grid_auto_columns": null,
            "grid_auto_flow": null,
            "grid_auto_rows": null,
            "grid_column": null,
            "grid_gap": null,
            "grid_row": null,
            "grid_template_areas": null,
            "grid_template_columns": null,
            "grid_template_rows": null,
            "height": null,
            "justify_content": null,
            "justify_items": null,
            "left": null,
            "margin": null,
            "max_height": null,
            "max_width": null,
            "min_height": null,
            "min_width": null,
            "object_fit": null,
            "object_position": null,
            "order": null,
            "overflow": null,
            "overflow_x": null,
            "overflow_y": null,
            "padding": null,
            "right": null,
            "top": null,
            "visibility": null,
            "width": null
          }
        },
        "616cc49d09ff4588b7a90044b3042b39": {
          "model_module": "@jupyter-widgets/controls",
          "model_module_version": "1.5.0",
          "model_name": "HBoxModel",
          "state": {
            "_dom_classes": [],
            "_model_module": "@jupyter-widgets/controls",
            "_model_module_version": "1.5.0",
            "_model_name": "HBoxModel",
            "_view_count": null,
            "_view_module": "@jupyter-widgets/controls",
            "_view_module_version": "1.5.0",
            "_view_name": "HBoxView",
            "box_style": "",
            "children": [
              "IPY_MODEL_992912ac8a594c8a92c05e7b8400cc82",
              "IPY_MODEL_00f3ef8a600c4fb68993f7c8adad8b6c",
              "IPY_MODEL_e977acc472f449fe8a2cd5265651f1f6"
            ],
            "layout": "IPY_MODEL_ffcbe856de3243e1a61cbc08c5cb3d4a"
          }
        },
        "992912ac8a594c8a92c05e7b8400cc82": {
          "model_module": "@jupyter-widgets/controls",
          "model_module_version": "1.5.0",
          "model_name": "HTMLModel",
          "state": {
            "_dom_classes": [],
            "_model_module": "@jupyter-widgets/controls",
            "_model_module_version": "1.5.0",
            "_model_name": "HTMLModel",
            "_view_count": null,
            "_view_module": "@jupyter-widgets/controls",
            "_view_module_version": "1.5.0",
            "_view_name": "HTMLView",
            "description": "",
            "description_tooltip": null,
            "layout": "IPY_MODEL_dd1cfb6c5e364eb391513e22d70ddd28",
            "placeholder": "​",
            "style": "IPY_MODEL_cc270aedfde34fb682dbb59d04eddfc2",
            "value": "100%"
          }
        },
        "b1bbd5b884b54828bec5f032671bc12e": {
          "model_module": "@jupyter-widgets/controls",
          "model_module_version": "1.5.0",
          "model_name": "DescriptionStyleModel",
          "state": {
            "_model_module": "@jupyter-widgets/controls",
            "_model_module_version": "1.5.0",
            "_model_name": "DescriptionStyleModel",
            "_view_count": null,
            "_view_module": "@jupyter-widgets/base",
            "_view_module_version": "1.2.0",
            "_view_name": "StyleView",
            "description_width": ""
          }
        },
        "bb83260514874c1aafb57e26ae67e067": {
          "model_module": "@jupyter-widgets/controls",
          "model_module_version": "1.5.0",
          "model_name": "ProgressStyleModel",
          "state": {
            "_model_module": "@jupyter-widgets/controls",
            "_model_module_version": "1.5.0",
            "_model_name": "ProgressStyleModel",
            "_view_count": null,
            "_view_module": "@jupyter-widgets/base",
            "_view_module_version": "1.2.0",
            "_view_name": "StyleView",
            "bar_color": null,
            "description_width": ""
          }
        },
        "cc270aedfde34fb682dbb59d04eddfc2": {
          "model_module": "@jupyter-widgets/controls",
          "model_module_version": "1.5.0",
          "model_name": "DescriptionStyleModel",
          "state": {
            "_model_module": "@jupyter-widgets/controls",
            "_model_module_version": "1.5.0",
            "_model_name": "DescriptionStyleModel",
            "_view_count": null,
            "_view_module": "@jupyter-widgets/base",
            "_view_module_version": "1.2.0",
            "_view_name": "StyleView",
            "description_width": ""
          }
        },
        "dd1cfb6c5e364eb391513e22d70ddd28": {
          "model_module": "@jupyter-widgets/base",
          "model_module_version": "1.2.0",
          "model_name": "LayoutModel",
          "state": {
            "_model_module": "@jupyter-widgets/base",
            "_model_module_version": "1.2.0",
            "_model_name": "LayoutModel",
            "_view_count": null,
            "_view_module": "@jupyter-widgets/base",
            "_view_module_version": "1.2.0",
            "_view_name": "LayoutView",
            "align_content": null,
            "align_items": null,
            "align_self": null,
            "border": null,
            "bottom": null,
            "display": null,
            "flex": null,
            "flex_flow": null,
            "grid_area": null,
            "grid_auto_columns": null,
            "grid_auto_flow": null,
            "grid_auto_rows": null,
            "grid_column": null,
            "grid_gap": null,
            "grid_row": null,
            "grid_template_areas": null,
            "grid_template_columns": null,
            "grid_template_rows": null,
            "height": null,
            "justify_content": null,
            "justify_items": null,
            "left": null,
            "margin": null,
            "max_height": null,
            "max_width": null,
            "min_height": null,
            "min_width": null,
            "object_fit": null,
            "object_position": null,
            "order": null,
            "overflow": null,
            "overflow_x": null,
            "overflow_y": null,
            "padding": null,
            "right": null,
            "top": null,
            "visibility": null,
            "width": null
          }
        },
        "e977acc472f449fe8a2cd5265651f1f6": {
          "model_module": "@jupyter-widgets/controls",
          "model_module_version": "1.5.0",
          "model_name": "HTMLModel",
          "state": {
            "_dom_classes": [],
            "_model_module": "@jupyter-widgets/controls",
            "_model_module_version": "1.5.0",
            "_model_name": "HTMLModel",
            "_view_count": null,
            "_view_module": "@jupyter-widgets/controls",
            "_view_module_version": "1.5.0",
            "_view_name": "HTMLView",
            "description": "",
            "description_tooltip": null,
            "layout": "IPY_MODEL_38619921f49843afab67719b44c4ec46",
            "placeholder": "​",
            "style": "IPY_MODEL_b1bbd5b884b54828bec5f032671bc12e",
            "value": " 13.6M/13.6M [00:00&lt;00:00, 146MB/s]"
          }
        },
        "ffcbe856de3243e1a61cbc08c5cb3d4a": {
          "model_module": "@jupyter-widgets/base",
          "model_module_version": "1.2.0",
          "model_name": "LayoutModel",
          "state": {
            "_model_module": "@jupyter-widgets/base",
            "_model_module_version": "1.2.0",
            "_model_name": "LayoutModel",
            "_view_count": null,
            "_view_module": "@jupyter-widgets/base",
            "_view_module_version": "1.2.0",
            "_view_name": "LayoutView",
            "align_content": null,
            "align_items": null,
            "align_self": null,
            "border": null,
            "bottom": null,
            "display": null,
            "flex": null,
            "flex_flow": null,
            "grid_area": null,
            "grid_auto_columns": null,
            "grid_auto_flow": null,
            "grid_auto_rows": null,
            "grid_column": null,
            "grid_gap": null,
            "grid_row": null,
            "grid_template_areas": null,
            "grid_template_columns": null,
            "grid_template_rows": null,
            "height": null,
            "justify_content": null,
            "justify_items": null,
            "left": null,
            "margin": null,
            "max_height": null,
            "max_width": null,
            "min_height": null,
            "min_width": null,
            "object_fit": null,
            "object_position": null,
            "order": null,
            "overflow": null,
            "overflow_x": null,
            "overflow_y": null,
            "padding": null,
            "right": null,
            "top": null,
            "visibility": null,
            "width": null
          }
        }
      }
    }
  },
  "nbformat": 4,
  "nbformat_minor": 0
}
