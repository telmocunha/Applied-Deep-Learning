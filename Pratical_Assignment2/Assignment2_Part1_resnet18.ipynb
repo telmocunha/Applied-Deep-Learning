{
  "cells": [
    {
      "cell_type": "markdown",
      "metadata": {
        "id": "bYEdxDa-Ui-d"
      },
      "source": [
        "**Assignment2 -Parte 1 ResNet18**\n",
        "\n",
        "Trabalho realizado por:\n",
        "\n",
        "Telmo Cunha 2018308321\n"
      ]
    },
    {
      "cell_type": "code",
      "execution_count": null,
      "metadata": {
        "colab": {
          "base_uri": "https://localhost:8080/"
        },
        "id": "td4mRNjLPOpC",
        "outputId": "1cc06e6d-1ebe-44a1-a617-0fd61ddf4303"
      },
      "outputs": [
        {
          "name": "stdout",
          "output_type": "stream",
          "text": [
            "Mounted at /content/gdrive\n"
          ]
        }
      ],
      "source": [
        "from google.colab import drive\n",
        "drive.mount('/content/gdrive')"
      ]
    },
    {
      "cell_type": "code",
      "execution_count": null,
      "metadata": {
        "colab": {
          "base_uri": "https://localhost:8080/"
        },
        "id": "2RUzTncaPlur",
        "outputId": "1fca8cc1-6913-4958-e1f5-35b82c520298"
      },
      "outputs": [
        {
          "name": "stdout",
          "output_type": "stream",
          "text": [
            "/content/gdrive/MyDrive/YOLO\n"
          ]
        }
      ],
      "source": [
        "%cd gdrive/MyDrive/YOLO"
      ]
    },
    {
      "cell_type": "code",
      "execution_count": null,
      "metadata": {
        "colab": {
          "base_uri": "https://localhost:8080/"
        },
        "id": "4OmFObgAPinB",
        "outputId": "11f2447d-c794-4bfb-9057-6f0ca6cf9ecb"
      },
      "outputs": [
        {
          "name": "stdout",
          "output_type": "stream",
          "text": [
            "\u001b[0m\u001b[01;34mcheckpoints\u001b[0m/  datasets.py   \u001b[01;34mKITTI_dataset\u001b[0m/  \u001b[01;34mResults\u001b[0m/          train.py\n",
            "\u001b[01;34mconfig\u001b[0m/       datasplit.py  models.py       \u001b[01;34mResults_weights\u001b[0m/  utils.py\n",
            "\u001b[01;34mdata\u001b[0m/         detect.py     \u001b[01;34m__pycache__\u001b[0m/    test.py           \u001b[01;34mweights\u001b[0m/\n"
          ]
        }
      ],
      "source": [
        "%ls"
      ]
    },
    {
      "cell_type": "code",
      "execution_count": null,
      "metadata": {
        "id": "6Gm3d0eHCND6"
      },
      "outputs": [],
      "source": [
        "import numpy as np\n",
        "import pandas as pd\n",
        "import cv2 as cv\n",
        "import glob\n",
        "import os\n",
        "from google.colab.patches import cv2_imshow # for image display\n",
        "from skimage import io\n",
        "import matplotlib.pyplot as plt\n",
        "import math\n",
        "from PIL import Image\n",
        "import pickle\n",
        "\n",
        "from torch.utils import data\n",
        "from torchvision import transforms\n",
        "#import torchvision.transforms as transforms\n",
        "import torch\n",
        "import torch.nn as nn \n",
        "import torch.nn.functional as F\n",
        "import torchvision.models as models\n",
        "\n",
        "\n"
      ]
    },
    {
      "cell_type": "markdown",
      "metadata": {
        "id": "ggBziGWEWrGf"
      },
      "source": [
        "Dataset"
      ]
    },
    {
      "cell_type": "code",
      "execution_count": null,
      "metadata": {
        "colab": {
          "base_uri": "https://localhost:8080/"
        },
        "id": "J3SVQhBO1tvI",
        "outputId": "13f9bd50-1713-40ab-f8c3-dcfa2e25cdf9"
      },
      "outputs": [
        {
          "name": "stdout",
          "output_type": "stream",
          "text": [
            "Size of images: 500\n"
          ]
        }
      ],
      "source": [
        "#maybe done\n",
        "\n",
        "\n",
        "#load of the images and the labels\n",
        "\n",
        "path_images=sorted(glob.glob(\"KITTI_dataset/Imgs/*.png\"))\n",
        "path_labels=sorted(glob.glob(\"KITTI_dataset/labels/*.txt\"))\n",
        "\n",
        "#images=np.empty((375,1242))\n",
        "images=[]\n",
        "labels=[]\n",
        "dataset=[]\n",
        "\n",
        "for i in path_images:\n",
        "  img=cv.imread(i)\n",
        "  images.append(img)\n",
        "\n",
        "print(\"Size of images:\",str(len(images)))\n",
        "\n"
      ]
    },
    {
      "cell_type": "code",
      "execution_count": null,
      "metadata": {
        "id": "7qXjV0MHt3vi"
      },
      "outputs": [],
      "source": [
        "labeltxt=np.loadtxt(path_labels[0])"
      ]
    },
    {
      "cell_type": "code",
      "execution_count": null,
      "metadata": {
        "colab": {
          "base_uri": "https://localhost:8080/"
        },
        "id": "rQNwWwV_5Ac0",
        "outputId": "ce25bbb2-f86e-459f-ed8a-03064f6d9eb4"
      },
      "outputs": [
        {
          "name": "stdout",
          "output_type": "stream",
          "text": [
            "Size of dataset: 2500\n",
            "Size of dataset: 2500\n"
          ]
        }
      ],
      "source": [
        "\n",
        "dataset_images=[]\n",
        "dataset_labels=[]\n",
        "aux=0\n",
        "for j in range(500):\n",
        "  image=np.array(images[j])\n",
        "  himage,wimage,channels=image.shape\n",
        "  labeltxt=np.loadtxt(path_labels[j])\n",
        "  dados= labeltxt.ravel()\n",
        "  # print(\"dados:\", dados)\n",
        "  aux+=len(dados)/5\n",
        "  for i in range(0,len(dados),5): \n",
        "    \n",
        "    label=dados[i]\n",
        "\n",
        "    xcentric= dados[i+1]\n",
        "    ycentric= dados[i+2]\n",
        "\n",
        "    width= dados[i+3]\n",
        "    heigth= dados[i+4]\n",
        "\n",
        "    # print(\"label\",label,\"\\nxcentric:\", xcentric,\"ycentric:\",ycentric,\"width:\", width,\"heigth:\",heigth)\n",
        "\n",
        "    #math.floor\n",
        "    x1n=float(xcentric) - (float(width)/2)\n",
        "    y1n=float(ycentric) - (float(heigth)/2)\n",
        "\n",
        "    x2n=float(xcentric) + (float(width)/2)\n",
        "    y2n=float(ycentric) + (float(heigth)/2)\n",
        "\n",
        "    x1=math.floor(x1n*wimage)\n",
        "    y1=math.floor(y1n*himage)\n",
        "    x2=math.floor(x2n*wimage)\n",
        "    y2=math.floor(y2n*himage)\n",
        "\n",
        "    # print(\"x1\", x1,\"y1\",y1,\"x2:\", x2,\"y2\",y2)\n",
        "\n",
        "    cropimage=image[y1:y2,x1:x2,:]\n",
        "    # print(\"\\n Debug-> bounding box:\")\n",
        "    # print(\"cropimage:\\n\", cropimage)\n",
        "    \n",
        "    cropimage=cv.resize(cropimage, dsize=(64, 64), interpolation=cv.INTER_CUBIC)\n",
        "    \n",
        "    # print(\"\\n Debug crop image size:\")\n",
        "    # print(cropimage.shape)\n",
        "\n",
        "    dataset_images.append(cropimage)\n",
        "    dataset_labels.append(label)\n",
        "    # print(\"\\n Debug-> verificar se tem a label e imagem:\")\n",
        "    # print(\"Debug len dataset images:\", len(dataset_images))\n",
        "    # print(\"\\n degub label:\",dataset_labels)\n",
        "\n",
        "    \n",
        "\n",
        "\n",
        "\n",
        "print(\"Size of dataset:\",str(len(dataset_images)))\n",
        "print(\"Size of dataset:\",str(len(dataset_labels)))\n",
        "\n",
        "with open('dataset.pickle', 'wb') as f:\n",
        "    pickle.dump([dataset_labels,dataset_images], f)\n",
        "\n",
        "\n"
      ]
    },
    {
      "cell_type": "code",
      "execution_count": null,
      "metadata": {
        "id": "PLf5ifQ0l9DR"
      },
      "outputs": [],
      "source": []
    },
    {
      "cell_type": "code",
      "execution_count": null,
      "metadata": {
        "id": "JZ5DLT_4Powh"
      },
      "outputs": [],
      "source": [
        "\n",
        "class Dataset (data.Dataset):\n",
        "  def __init__ (self , images , labels):\n",
        "    self.images = images\n",
        "    self.labels = labels\n",
        "  def __len__ ( self ):\n",
        "    return len( self.images )\n",
        "  def __getitem__ (self , index ):\n",
        "    img = np.array(self.images[index])\n",
        "    img= transforms.ToTensor()(img)\n",
        "    label = self.labels [ index ]\n",
        "    return img , label"
      ]
    },
    {
      "cell_type": "code",
      "execution_count": null,
      "metadata": {
        "id": "79MKcGTB2Asl"
      },
      "outputs": [],
      "source": []
    },
    {
      "cell_type": "markdown",
      "metadata": {
        "id": "Rrq2-z60QJDw"
      },
      "source": []
    },
    {
      "cell_type": "code",
      "execution_count": null,
      "metadata": {
        "colab": {
          "base_uri": "https://localhost:8080/",
          "height": 1000,
          "referenced_widgets": [
            "211ee74571374d368c56c199f69eec67",
            "40e76e38272d46b593681b2918c04c7f",
            "60ce2b8078cc4841b221c48e07c37bc6",
            "ac91df63ce294871aafe901947cdba06",
            "35a409632aea406b99bd00622f393e4f",
            "4c0c1b75f7e64bb8bcc2459aa8eb2273",
            "ec27798508fa45feb4da3c00e34e29bd",
            "ac36554684a54593b1f6f57ee77fb5a7",
            "70246cb7c4234019bbc8659197b5f5fb",
            "70e1956e3c2e4f90ae543eed9f56d172",
            "5d66a9706a7d485ba17a4358d94b0ff0"
          ]
        },
        "id": "bKwNuA_JQIvJ",
        "outputId": "3c47d543-5037-440e-ea62-c2b9b8af77c8"
      },
      "outputs": [
        {
          "name": "stdout",
          "output_type": "stream",
          "text": [
            "\n",
            "The model will run on cpu\n"
          ]
        },
        {
          "name": "stderr",
          "output_type": "stream",
          "text": [
            "/usr/local/lib/python3.7/dist-packages/torchvision/models/_utils.py:209: UserWarning: The parameter 'pretrained' is deprecated since 0.13 and will be removed in 0.15, please use 'weights' instead.\n",
            "  f\"The parameter '{pretrained_param}' is deprecated since 0.13 and will be removed in 0.15, \"\n",
            "/usr/local/lib/python3.7/dist-packages/torchvision/models/_utils.py:223: UserWarning: Arguments other than a weight enum or `None` for 'weights' are deprecated since 0.13 and will be removed in 0.15. The current behavior is equivalent to passing `weights=ResNet18_Weights.IMAGENET1K_V1`. You can also use `weights=ResNet18_Weights.DEFAULT` to get the most up-to-date weights.\n",
            "  warnings.warn(msg)\n",
            "Downloading: \"https://download.pytorch.org/models/resnet18-f37072fd.pth\" to /root/.cache/torch/hub/checkpoints/resnet18-f37072fd.pth\n"
          ]
        },
        {
          "data": {
            "application/vnd.jupyter.widget-view+json": {
              "model_id": "211ee74571374d368c56c199f69eec67",
              "version_major": 2,
              "version_minor": 0
            },
            "text/plain": [
              "  0%|          | 0.00/44.7M [00:00<?, ?B/s]"
            ]
          },
          "metadata": {},
          "output_type": "display_data"
        },
        {
          "name": "stdout",
          "output_type": "stream",
          "text": [
            "\n",
            "\n",
            "\n",
            "----------------------------------------------------------------\n",
            "        Layer (type)               Output Shape         Param #\n",
            "================================================================\n",
            "            Conv2d-1            [5, 64, 16, 16]           9,408\n",
            "       BatchNorm2d-2            [5, 64, 16, 16]             128\n",
            "              ReLU-3            [5, 64, 16, 16]               0\n",
            "         MaxPool2d-4              [5, 64, 8, 8]               0\n",
            "            Conv2d-5              [5, 64, 8, 8]          36,864\n",
            "       BatchNorm2d-6              [5, 64, 8, 8]             128\n",
            "              ReLU-7              [5, 64, 8, 8]               0\n",
            "            Conv2d-8              [5, 64, 8, 8]          36,864\n",
            "       BatchNorm2d-9              [5, 64, 8, 8]             128\n",
            "             ReLU-10              [5, 64, 8, 8]               0\n",
            "       BasicBlock-11              [5, 64, 8, 8]               0\n",
            "           Conv2d-12              [5, 64, 8, 8]          36,864\n",
            "      BatchNorm2d-13              [5, 64, 8, 8]             128\n",
            "             ReLU-14              [5, 64, 8, 8]               0\n",
            "           Conv2d-15              [5, 64, 8, 8]          36,864\n",
            "      BatchNorm2d-16              [5, 64, 8, 8]             128\n",
            "             ReLU-17              [5, 64, 8, 8]               0\n",
            "       BasicBlock-18              [5, 64, 8, 8]               0\n",
            "           Conv2d-19             [5, 128, 4, 4]          73,728\n",
            "      BatchNorm2d-20             [5, 128, 4, 4]             256\n",
            "             ReLU-21             [5, 128, 4, 4]               0\n",
            "           Conv2d-22             [5, 128, 4, 4]         147,456\n",
            "      BatchNorm2d-23             [5, 128, 4, 4]             256\n",
            "           Conv2d-24             [5, 128, 4, 4]           8,192\n",
            "      BatchNorm2d-25             [5, 128, 4, 4]             256\n",
            "             ReLU-26             [5, 128, 4, 4]               0\n",
            "       BasicBlock-27             [5, 128, 4, 4]               0\n",
            "           Conv2d-28             [5, 128, 4, 4]         147,456\n",
            "      BatchNorm2d-29             [5, 128, 4, 4]             256\n",
            "             ReLU-30             [5, 128, 4, 4]               0\n",
            "           Conv2d-31             [5, 128, 4, 4]         147,456\n",
            "      BatchNorm2d-32             [5, 128, 4, 4]             256\n",
            "             ReLU-33             [5, 128, 4, 4]               0\n",
            "       BasicBlock-34             [5, 128, 4, 4]               0\n",
            "           Conv2d-35             [5, 256, 2, 2]         294,912\n",
            "      BatchNorm2d-36             [5, 256, 2, 2]             512\n",
            "             ReLU-37             [5, 256, 2, 2]               0\n",
            "           Conv2d-38             [5, 256, 2, 2]         589,824\n",
            "      BatchNorm2d-39             [5, 256, 2, 2]             512\n",
            "           Conv2d-40             [5, 256, 2, 2]          32,768\n",
            "      BatchNorm2d-41             [5, 256, 2, 2]             512\n",
            "             ReLU-42             [5, 256, 2, 2]               0\n",
            "       BasicBlock-43             [5, 256, 2, 2]               0\n",
            "           Conv2d-44             [5, 256, 2, 2]         589,824\n",
            "      BatchNorm2d-45             [5, 256, 2, 2]             512\n",
            "             ReLU-46             [5, 256, 2, 2]               0\n",
            "           Conv2d-47             [5, 256, 2, 2]         589,824\n",
            "      BatchNorm2d-48             [5, 256, 2, 2]             512\n",
            "             ReLU-49             [5, 256, 2, 2]               0\n",
            "       BasicBlock-50             [5, 256, 2, 2]               0\n",
            "           Conv2d-51             [5, 512, 1, 1]       1,179,648\n",
            "      BatchNorm2d-52             [5, 512, 1, 1]           1,024\n",
            "             ReLU-53             [5, 512, 1, 1]               0\n",
            "           Conv2d-54             [5, 512, 1, 1]       2,359,296\n",
            "      BatchNorm2d-55             [5, 512, 1, 1]           1,024\n",
            "           Conv2d-56             [5, 512, 1, 1]         131,072\n",
            "      BatchNorm2d-57             [5, 512, 1, 1]           1,024\n",
            "             ReLU-58             [5, 512, 1, 1]               0\n",
            "       BasicBlock-59             [5, 512, 1, 1]               0\n",
            "           Conv2d-60             [5, 512, 1, 1]       2,359,296\n",
            "      BatchNorm2d-61             [5, 512, 1, 1]           1,024\n",
            "             ReLU-62             [5, 512, 1, 1]               0\n",
            "           Conv2d-63             [5, 512, 1, 1]       2,359,296\n",
            "      BatchNorm2d-64             [5, 512, 1, 1]           1,024\n",
            "             ReLU-65             [5, 512, 1, 1]               0\n",
            "       BasicBlock-66             [5, 512, 1, 1]               0\n",
            "AdaptiveAvgPool2d-67             [5, 512, 1, 1]               0\n",
            "           Linear-68                     [5, 3]           1,539\n",
            "================================================================\n",
            "Total params: 11,178,051\n",
            "Trainable params: 11,178,051\n",
            "Non-trainable params: 0\n",
            "----------------------------------------------------------------\n",
            "Input size (MB): 0.06\n",
            "Forward/backward pass size (MB): 6.43\n",
            "Params size (MB): 42.64\n",
            "Estimated Total Size (MB): 49.13\n",
            "----------------------------------------------------------------\n"
          ]
        }
      ],
      "source": [
        "device = torch.device(\"cuda\" if torch.cuda.is_available() else \"cpu\") \n",
        "print('\\nThe model will run on', device)\n",
        "cnn_model = models.resnet18(pretrained=True)\n",
        "\n",
        "# for param in cnn_model.parameters ():\n",
        "#   param.requires_grad = False\n",
        "\n",
        "cnn_model.fc=nn.Linear(512,3)\n",
        "\n",
        "cnn_model=cnn_model.to(device)\n",
        "\n",
        "\n",
        "# Using the torchsummary, you can check your network in more detail\n",
        "import torchsummary\n",
        "print(\"\\n\\n\")\n",
        "torchsummary.summary(cnn_model, input_size = (3, 32, 32), batch_size = 5) \n"
      ]
    },
    {
      "cell_type": "code",
      "execution_count": null,
      "metadata": {
        "colab": {
          "base_uri": "https://localhost:8080/"
        },
        "id": "recElJ5nNnDE",
        "outputId": "e761f428-6db0-4d8c-9f30-b594ef1ece27"
      },
      "outputs": [
        {
          "name": "stdout",
          "output_type": "stream",
          "text": [
            "Number of images in original training set: 2000\n",
            "Split Number: 400\n",
            "Number of training images: 1600\n",
            "Number of validation images: 400\n",
            "Number of images in the testing set: 500\n"
          ]
        }
      ],
      "source": [
        "with open('dataset.pickle','rb') as f:\n",
        "    data_lab,data_img = pickle.load(f)\n",
        "\n",
        "dataset=Dataset(images= data_img,labels= data_lab)\n",
        "\n",
        "# transform_train2= tt.Compose([tt.ToTensor(),\n",
        "#                               tt.Normalize((0.5, 0.5, 0.5), (0.5, 0.5, 0.5))])\n",
        "\n",
        "# transform_train = tt.Compose([tt.ToTensor(),\n",
        "#                               tt.Normalize((0.5, 0.5, 0.5), (0.5, 0.5, 0.5)), #Normalize all the images\n",
        "#                               tt.RandomInvert(0.5),       \n",
        "#                               tt.RandomHorizontalFlip(0.5),       #Flips the image horizontal axis\n",
        "#                               tt.RandomRotation((-45,45))#Rotates the image to a specified angel \n",
        "                                                         \n",
        "#                               ])\n",
        "\n",
        "# #tt.ColorJitter(0.2,0.2,0.3,0.3), #brightness, contrast , saturation, hue  \n",
        "# transform = tt.Compose([tt.Resize((32,32)),\n",
        "#                          tt.ToTensor(),\n",
        "#                          tt.Normalize((0.5, 0.5, 0.5), (0.5, 0.5, 0.5))\n",
        "#                        ])\n",
        "\n",
        "#transform = tt. ToTensor ()\n",
        "train_size = int(0.8 * len(dataset))\n",
        "test_size = len(dataset) - train_size\n",
        "training_data, testing_data = torch.utils.data.random_split(dataset, [train_size, test_size])\n",
        "\n",
        "# Lets start to obtain training indices\n",
        "num_train = len(training_data)\n",
        "print(\"Number of images in original training set: \" + str(num_train)) # 60 000\n",
        "indices = list(range(num_train))\n",
        "\n",
        "# Randomly Shuffle\n",
        "np.random.shuffle(indices)\n",
        "\n",
        "# Split 80%/20%\n",
        "split = int(np.floor(num_train * 0.2)) # 12 000\n",
        "print(\"Split Number: \" + str(split))\n",
        "training_idx, valid_idx = indices[split:], indices[:split] # 48 000 / 12 000\n",
        "print(\"Number of training images: \" + str(len(training_idx)))\n",
        "print(\"Number of validation images: \" + str(len(valid_idx)))\n",
        "\n",
        "# Lets also see how many images are on testing set\n",
        "print(\"Number of images in the testing set: \" + str(len(testing_data))) # 10 000"
      ]
    },
    {
      "cell_type": "markdown",
      "metadata": {
        "id": "CreITu05RMxo"
      },
      "source": []
    },
    {
      "cell_type": "code",
      "execution_count": null,
      "metadata": {
        "id": "vu9mMdlgRNS6"
      },
      "outputs": [],
      "source": [
        "\n",
        "from torch.utils.data.sampler import SubsetRandomSampler # Sampler\n",
        "# To train the network, you must \"encode\" the data into a PyTorch dataloader\n",
        "# Since you divided the original training set in 2, now you need to assign the indices to the samples\n",
        "training_sampler = SubsetRandomSampler(training_idx)\n",
        "valid_sampler = SubsetRandomSampler(valid_idx)\n",
        "\n",
        "\n",
        "batch_size = 28 # 100 images per batch and per epoch\n",
        "\n",
        "# Training Set\n",
        "training_loader = torch.utils.data.DataLoader(dataset = training_data, \\\n",
        "                                              batch_size = batch_size, \\\n",
        "                                              sampler = training_sampler)\n",
        "\n",
        "# Validation Set\n",
        "valid_loader = torch.utils.data.DataLoader(dataset = training_data, \\\n",
        "                                           batch_size = batch_size, \\\n",
        "                                           sampler = valid_sampler)\n",
        "\n",
        "# Testing Set\n",
        "# Here, you do not need the \"sampler\" input, since you did not change the original testing set\n",
        "testing_loader = torch.utils.data.DataLoader(dataset = testing_data, \\\n",
        "                                           batch_size = batch_size, \\\n",
        "                                           shuffle = True)\n",
        "classes = ['car','person','cyclist']"
      ]
    },
    {
      "cell_type": "markdown",
      "metadata": {
        "id": "jDPGwD5eRRNb"
      },
      "source": []
    },
    {
      "cell_type": "code",
      "execution_count": null,
      "metadata": {
        "id": "DLytdoirRRw1"
      },
      "outputs": [],
      "source": [
        "# Library imports\n",
        "import torch.optim as optim\n",
        "import tensorflow as tf"
      ]
    },
    {
      "cell_type": "code",
      "execution_count": null,
      "metadata": {
        "colab": {
          "background_save": true,
          "base_uri": "https://localhost:8080/"
        },
        "id": "L6y1T1wQRSeX",
        "outputId": "4322c528-fa73-4d6f-ce30-09785bd3a518"
      },
      "outputs": [
        {
          "name": "stdout",
          "output_type": "stream",
          "text": [
            "(Validation Set) Epoch: 1 Loss: 0.02865474909543991 Acc: 68.25\n",
            "Epoch-0 lr: 0.0001\n",
            "(Validation Set) Epoch: 2 Loss: 0.016069535315036774 Acc: 88.0\n",
            "Epoch-1 lr: 0.0001\n",
            "(Validation Set) Epoch: 3 Loss: 0.010523084085434675 Acc: 90.25\n",
            "Epoch-2 lr: 0.0001\n",
            "(Validation Set) Epoch: 4 Loss: 0.008324462696909904 Acc: 92.25\n",
            "Epoch-3 lr: 0.0001\n",
            "(Validation Set) Epoch: 5 Loss: 0.007063896395266056 Acc: 93.25\n",
            "Epoch-4 lr: 0.0001\n",
            "(Validation Set) Epoch: 6 Loss: 0.006567744193598628 Acc: 93.5\n",
            "Epoch-5 lr: 0.0001\n",
            "(Validation Set) Epoch: 7 Loss: 0.0060682503692805765 Acc: 93.25\n",
            "Epoch-6 lr: 0.0001\n",
            "(Validation Set) Epoch: 8 Loss: 0.008227919545024633 Acc: 92.75\n",
            "Epoch-7 lr: 0.0001\n",
            "(Validation Set) Epoch: 9 Loss: 0.006703427580650896 Acc: 94.5\n",
            "Epoch-8 lr: 0.0001\n",
            "(Validation Set) Epoch: 10 Loss: 0.006764299876522273 Acc: 92.75\n",
            "Epoch-9 lr: 0.0001\n",
            "(Validation Set) Epoch: 11 Loss: 0.00798399256542325 Acc: 93.75\n",
            "Epoch-10 lr: 0.0001\n",
            "(Validation Set) Epoch: 12 Loss: 0.0070619579683989285 Acc: 93.5\n",
            "Epoch-11 lr: 0.0001\n",
            "(Validation Set) Epoch: 13 Loss: 0.006231917450204492 Acc: 95.25\n",
            "Epoch-12 lr: 0.0001\n",
            "(Validation Set) Epoch: 14 Loss: 0.007213856787420809 Acc: 92.5\n",
            "Epoch-13 lr: 0.0001\n",
            "(Validation Set) Epoch: 15 Loss: 0.0060842098854482175 Acc: 95.25\n",
            "Epoch-14 lr: 0.0001\n",
            "(Validation Set) Epoch: 16 Loss: 0.00819425780326128 Acc: 95.25\n",
            "Epoch-15 lr: 0.0001\n",
            "(Validation Set) Epoch: 17 Loss: 0.0056795604666695 Acc: 96.0\n",
            "Epoch-16 lr: 0.0001\n",
            "(Validation Set) Epoch: 18 Loss: 0.005662766571622342 Acc: 95.25\n",
            "Epoch-17 lr: 0.0001\n",
            "(Validation Set) Epoch: 19 Loss: 0.005873116427101195 Acc: 94.25\n",
            "Epoch-18 lr: 0.0001\n",
            "(Validation Set) Epoch: 20 Loss: 0.0046257708908524365 Acc: 96.25\n",
            "Epoch-19 lr: 0.0001\n",
            "Training is completed!\n"
          ]
        }
      ],
      "source": [
        "# To train a CNN, you must choose (or develop) a loss function, an optimizer algorithm, and a set of hyper-parameters (learning rate, number of epochs, etc)\n",
        "# Hyper-parameters\n",
        "\n",
        "num_epochs = 20\n",
        "loss_values = []\n",
        "lr=0.0001  \n",
        "\n",
        "# Loss Function\n",
        "criterion = nn.CrossEntropyLoss() # Cross entropy loss function is widely used in classification problems\n",
        "\n",
        "\n",
        "# Optimizer Algorithm\n",
        "#optimizer = optim.Adam(cnn_model.parameters(), lr = lr)\n",
        "optimizer = optim.RAdam(cnn_model.parameters(), lr = lr)\n",
        "#optimizer =optim.RMSprop(cnn_model.parameters(),lr=lr)\n",
        "\n",
        "# Training\n",
        "running_loss = 0.0\n",
        "training_loss =0.0\n",
        "\n",
        "y_valid= list()\n",
        "y_train= list()\n",
        "#adaptive learning rate\n",
        "#scheduler = optim.lr_scheduler.StepLR(optimizer,step_size=4,gamma=0.1)\n",
        "#scheduler = optim.lr_scheduler.ReduceLROnPlateau(optimizer,mode='max',factor=0.1,patience=4)\n",
        "\n",
        "for epoch in range(num_epochs):\n",
        "  \n",
        "  for batch_id, data in enumerate(training_loader, 0):\n",
        "    \n",
        "    #Get the images and their labels\n",
        "    images, labels = data\n",
        "    # Send the images and their labels to the training device\n",
        "    \n",
        "\n",
        "    images=images.type(torch.FloatTensor)\n",
        "    labels=labels.type(torch.LongTensor)\n",
        "\n",
        "    images, labels = images.to(device), labels.to(device)\n",
        "\n",
        "\n",
        "\n",
        "    # Pass images through the CNN\n",
        "    outputs = cnn_model(images)\n",
        "\n",
        "    # Create a loss value\n",
        "    loss = criterion(outputs, labels)\n",
        "\n",
        "    # Backpropagation\n",
        "    optimizer.zero_grad() # zero the parameter gradients\n",
        "    loss.backward()\n",
        "    optimizer.step()\n",
        "\n",
        "    # Check some statistics\n",
        "    training_loss+= loss.item()\n",
        "    running_loss += loss.item()\n",
        "    if batch_id % 1000 == 999: # prints every 1000 batchs\n",
        "      print('[%d, %5d] loss: %.3f' % (epoch + 1, batch_id + 1, running_loss / 1000))\n",
        "      running_loss = 0.0\n",
        "    \n",
        "  y_train.append(training_loss/(len(training_idx)/batch_size))\n",
        "  training_loss=0.0\n",
        "  \n",
        "  # For each epoch, analize the model performance\n",
        "  valid_correct = 0\n",
        "  valid_total = 0\n",
        "  valid_total_loss = 0\n",
        "  with torch.no_grad(): # In this part, you will not train, so you don't need to calculate gradients\n",
        "    for valid_batch_id, valid_data in enumerate(valid_loader, 0):\n",
        "      valid_images, valid_labels = valid_data\n",
        "      valid_images, valid_labels = valid_images.to(device), valid_labels.to(device)\n",
        "      valid_outputs = cnn_model(valid_images)\n",
        "\n",
        "      valid_outputs=valid_outputs.type(torch.FloatTensor)\n",
        "      valid_labels=valid_labels.type(torch.LongTensor)\n",
        "\n",
        "      valid_loss = criterion(valid_outputs, valid_labels)\n",
        "      valid_total_loss += valid_loss.item()\n",
        "      _, valid_predicted = torch.max(valid_outputs.data, 1)\n",
        "      valid_total += valid_labels.size(0)\n",
        "      valid_correct += (valid_predicted == valid_labels).sum().item()\n",
        "  \n",
        "  validation_loss= valid_total_loss/len(valid_idx)\n",
        "  loss_values.append(validation_loss)\n",
        "  y_valid.append(valid_total_loss/(len(valid_idx)/batch_size))\n",
        "  print(\"(Validation Set) Epoch: \" + str(epoch + 1) + \" Loss: \" + str(valid_total_loss/ len(valid_idx)) + \" Acc: \" + str(100*valid_correct/valid_total))\n",
        "  print('Epoch-{0} lr: {1}'.format(epoch, optimizer.param_groups[0]['lr']))\n",
        "  #scheduler.step(loss)\n",
        "\n",
        "\n",
        "print(\"Training is completed!\")"
      ]
    },
    {
      "cell_type": "markdown",
      "metadata": {
        "id": "41EF49TJRXGh"
      },
      "source": []
    },
    {
      "cell_type": "code",
      "execution_count": null,
      "metadata": {
        "colab": {
          "background_save": true
        },
        "id": "pFByUlBkRhsX",
        "outputId": "99083662-84ee-4dda-efd1-e2430502f972"
      },
      "outputs": [
        {
          "data": {
            "image/png": "[encoded data removed]",
            "text/plain": [
              "<Figure size 432x288 with 1 Axes>"
            ]
          },
          "metadata": {},
          "output_type": "display_data"
        }
      ],
      "source": [
        "plt.plot(loss_values)\n",
        "plt.xlabel (\"Epoch\")\n",
        "plt.ylabel (\"Loss\")\n",
        "plt.title (\"Performance of Model\")\n",
        "plt.show()"
      ]
    },
    {
      "cell_type": "code",
      "execution_count": null,
      "metadata": {
        "colab": {
          "background_save": true
        },
        "id": "qxJ8ijuIRvMg",
        "outputId": "3570b0a9-b39a-4d79-9e65-2c77d9b9fb88"
      },
      "outputs": [
        {
          "data": {
            "image/png": "[encoded data removed]",
            "text/plain": [
              "<Figure size 432x288 with 1 Axes>"
            ]
          },
          "metadata": {},
          "output_type": "display_data"
        }
      ],
      "source": [
        "# plot  \n",
        "x = list(range(1, num_epochs+1))\n",
        "plt.plot(x, y_valid, 'bo-', label ='validation set')\n",
        "plt.plot(x, y_train, 'go-', label ='training set')\n",
        "\n",
        "plt.xlabel(\"Epochs\")\n",
        "plt.ylabel(\"Loss\")\n",
        "  \n",
        "# Function add a legend  \n",
        "plt.legend()\n",
        "  \n",
        "# function to show the plot\n",
        "plt.show()"
      ]
    },
    {
      "cell_type": "markdown",
      "metadata": {
        "id": "8uUe71sMR0NZ"
      },
      "source": []
    },
    {
      "cell_type": "code",
      "execution_count": null,
      "metadata": {
        "colab": {
          "background_save": true
        },
        "id": "LyCTr6j9R0zX",
        "outputId": "f6254310-950b-4d49-f7a7-10a0cb604690"
      },
      "outputs": [
        {
          "name": "stdout",
          "output_type": "stream",
          "text": [
            "Accuracy using 500 test images: 94.6 %\n",
            "\n",
            "Accuracy of  0 : 99 % in 418 Images\n",
            "Accuracy of  1 : 81 % in 53 Images\n",
            "Accuracy of  2 : 44 % in 29 Images\n",
            "\n",
            " Mean class accuracy:75.2401424096113%\n",
            "\n",
            "Confusion Matrix\n",
            "[[417   8   5]\n",
            " [  1  43  11]\n",
            " [  0   2  13]]\n",
            "\n",
            "\n"
          ]
        },
        {
          "data": {
            "image/png": "[encoded data removed]",
            "text/plain": [
              "<Figure size 432x288 with 2 Axes>"
            ]
          },
          "metadata": {},
          "output_type": "display_data"
        },
        {
          "name": "stdout",
          "output_type": "stream",
          "text": [
            "\n",
            "Global F1 score:100.0\n",
            "Mean F1 score:100.0\n",
            "Mean precision:100.0\n",
            "Mean recall 100.0\n"
          ]
        }
      ],
      "source": [
        "from sklearn.metrics import confusion_matrix\n",
        "from sklearn.metrics import f1_score\n",
        "from sklearn.metrics import recall_score\n",
        "from sklearn.metrics import precision_score\n",
        "from sklearn.metrics import ConfusionMatrixDisplay\n",
        "# Evaluate a CNN is similar to the training process without the backpropagation.\n",
        "# To evaluate a CNN, we need to follow the evaluation metrics\n",
        "num_classes = 3\n",
        "correct = 0\n",
        "total = 0\n",
        "class_correct = list(0. for i in range(num_classes))\n",
        "class_total = list(0. for i in range(num_classes))\n",
        "conf_matrix =[[0 for x in range(num_classes)] for y in range(num_classes)]\n",
        "\n",
        "cnn_model.eval()\n",
        "\n",
        "with torch.no_grad(): # You are not training, so you don't need to calculate gradients\n",
        "  for batch_id, data in enumerate(testing_loader, 0):\n",
        "    # Get the images and their labels\n",
        "    images, labels = data\n",
        "    # Send the images and their labels to the training device\n",
        "    images=images.type(torch.FloatTensor)\n",
        "    labels=labels.type(torch.LongTensor)\n",
        "    images, labels = images.to(device), labels.to(device)\n",
        "\n",
        "    # Calculate the CNN's predictions by running images through the network\n",
        "    outputs = cnn_model(images)\n",
        "\n",
        "    # The class with the highest\n",
        "    _, predicted = torch.max(outputs.data, 1)\n",
        "\n",
        "    # Get model's performance\n",
        "    total += labels.size(0)\n",
        "    correct += (predicted == labels).sum().item()\n",
        "    c = (predicted == labels).squeeze()\n",
        "\n",
        "    for i in range(len(images)):  \n",
        "      label = labels[i]\n",
        "      class_correct[label] += c[i].item()\n",
        "      class_total[label] += 1\n",
        "\n",
        "    conf_matrix += confusion_matrix(predicted.cpu(),labels.cpu(),labels=[x for x in range(num_classes)])\n",
        "\n",
        "mean_accuracy=list()\n",
        "# Show model's performance\n",
        "print('Accuracy using {} test images: {} %\\n'.format(total,100 * correct / total))\n",
        "# Performance per Class\n",
        "for i in range(num_classes):\n",
        "  if class_total[i] == 0:\n",
        "    print('Accuracy of %2s : %2d %% in %d Images' % (i, 0, 0))\n",
        "  else:\n",
        "    print('Accuracy of %2s : %2d %% in %d Images' % (i, 100 * class_correct[i] / class_total[i], class_total[i]))\n",
        "    mean_accuracy.append(100*class_correct[i]/ class_total[i])\n",
        "\n",
        "\n",
        "mean_accuracy= sum(mean_accuracy)/ num_classes\n",
        "print(\"\\n Mean class accuracy:\"+str(mean_accuracy)+\"%\")\n",
        "\n",
        "\n",
        "# Confusion Matrix\n",
        "print('\\nConfusion Matrix')\n",
        "print(conf_matrix) \n",
        "\n",
        "print('\\n')\n",
        "conf_disp = ConfusionMatrixDisplay(confusion_matrix = conf_matrix, \n",
        "                       display_labels = classes)\n",
        "conf_disp.plot()\n",
        "plt.show()\n",
        "\n",
        "f1micro = f1_score(labels.cpu(),predicted.cpu(),average=\"micro\")\n",
        "f1mean = f1_score(labels.cpu(),predicted.cpu(),average=\"weighted\")\n",
        "precision=precision_score(labels.cpu(),predicted.cpu(),average=\"weighted\")\n",
        "recall=recall_score(labels.cpu(),predicted.cpu(),average=\"weighted\")\n",
        "\n",
        "\n",
        "print(\"\\nGlobal F1 score:\"+str(f1micro*100))\n",
        "print(\"Mean F1 score:\"+str(f1mean*100))\n",
        "print(\"Mean precision:\"+str(precision*100))\n",
        "print(\"Mean recall\", str(recall*100))\n"
      ]
    }
  ],
  "metadata": {
    "accelerator": "GPU",
    "colab": {
      "provenance": []
    },
    "gpuClass": "standard",
    "kernelspec": {
      "display_name": "Python 3",
      "name": "python3"
    },
    "language_info": {
      "name": "python"
    },
    "widgets": {
      "application/vnd.jupyter.widget-state+json": {
        "211ee74571374d368c56c199f69eec67": {
          "model_module": "@jupyter-widgets/controls",
          "model_module_version": "1.5.0",
          "model_name": "HBoxModel",
          "state": {
            "_dom_classes": [],
            "_model_module": "@jupyter-widgets/controls",
            "_model_module_version": "1.5.0",
            "_model_name": "HBoxModel",
            "_view_count": null,
            "_view_module": "@jupyter-widgets/controls",
            "_view_module_version": "1.5.0",
            "_view_name": "HBoxView",
            "box_style": "",
            "children": [
              "IPY_MODEL_40e76e38272d46b593681b2918c04c7f",
              "IPY_MODEL_60ce2b8078cc4841b221c48e07c37bc6",
              "IPY_MODEL_ac91df63ce294871aafe901947cdba06"
            ],
            "layout": "IPY_MODEL_35a409632aea406b99bd00622f393e4f"
          }
        },
        "35a409632aea406b99bd00622f393e4f": {
          "model_module": "@jupyter-widgets/base",
          "model_module_version": "1.2.0",
          "model_name": "LayoutModel",
          "state": {
            "_model_module": "@jupyter-widgets/base",
            "_model_module_version": "1.2.0",
            "_model_name": "LayoutModel",
            "_view_count": null,
            "_view_module": "@jupyter-widgets/base",
            "_view_module_version": "1.2.0",
            "_view_name": "LayoutView",
            "align_content": null,
            "align_items": null,
            "align_self": null,
            "border": null,
            "bottom": null,
            "display": null,
            "flex": null,
            "flex_flow": null,
            "grid_area": null,
            "grid_auto_columns": null,
            "grid_auto_flow": null,
            "grid_auto_rows": null,
            "grid_column": null,
            "grid_gap": null,
            "grid_row": null,
            "grid_template_areas": null,
            "grid_template_columns": null,
            "grid_template_rows": null,
            "height": null,
            "justify_content": null,
            "justify_items": null,
            "left": null,
            "margin": null,
            "max_height": null,
            "max_width": null,
            "min_height": null,
            "min_width": null,
            "object_fit": null,
            "object_position": null,
            "order": null,
            "overflow": null,
            "overflow_x": null,
            "overflow_y": null,
            "padding": null,
            "right": null,
            "top": null,
            "visibility": null,
            "width": null
          }
        },
        "40e76e38272d46b593681b2918c04c7f": {
          "model_module": "@jupyter-widgets/controls",
          "model_module_version": "1.5.0",
          "model_name": "HTMLModel",
          "state": {
            "_dom_classes": [],
            "_model_module": "@jupyter-widgets/controls",
            "_model_module_version": "1.5.0",
            "_model_name": "HTMLModel",
            "_view_count": null,
            "_view_module": "@jupyter-widgets/controls",
            "_view_module_version": "1.5.0",
            "_view_name": "HTMLView",
            "description": "",
            "description_tooltip": null,
            "layout": "IPY_MODEL_4c0c1b75f7e64bb8bcc2459aa8eb2273",
            "placeholder": "​",
            "style": "IPY_MODEL_ec27798508fa45feb4da3c00e34e29bd",
            "value": "100%"
          }
        },
        "4c0c1b75f7e64bb8bcc2459aa8eb2273": {
          "model_module": "@jupyter-widgets/base",
          "model_module_version": "1.2.0",
          "model_name": "LayoutModel",
          "state": {
            "_model_module": "@jupyter-widgets/base",
            "_model_module_version": "1.2.0",
            "_model_name": "LayoutModel",
            "_view_count": null,
            "_view_module": "@jupyter-widgets/base",
            "_view_module_version": "1.2.0",
            "_view_name": "LayoutView",
            "align_content": null,
            "align_items": null,
            "align_self": null,
            "border": null,
            "bottom": null,
            "display": null,
            "flex": null,
            "flex_flow": null,
            "grid_area": null,
            "grid_auto_columns": null,
            "grid_auto_flow": null,
            "grid_auto_rows": null,
            "grid_column": null,
            "grid_gap": null,
            "grid_row": null,
            "grid_template_areas": null,
            "grid_template_columns": null,
            "grid_template_rows": null,
            "height": null,
            "justify_content": null,
            "justify_items": null,
            "left": null,
            "margin": null,
            "max_height": null,
            "max_width": null,
            "min_height": null,
            "min_width": null,
            "object_fit": null,
            "object_position": null,
            "order": null,
            "overflow": null,
            "overflow_x": null,
            "overflow_y": null,
            "padding": null,
            "right": null,
            "top": null,
            "visibility": null,
            "width": null
          }
        },
        "5d66a9706a7d485ba17a4358d94b0ff0": {
          "model_module": "@jupyter-widgets/controls",
          "model_module_version": "1.5.0",
          "model_name": "DescriptionStyleModel",
          "state": {
            "_model_module": "@jupyter-widgets/controls",
            "_model_module_version": "1.5.0",
            "_model_name": "DescriptionStyleModel",
            "_view_count": null,
            "_view_module": "@jupyter-widgets/base",
            "_view_module_version": "1.2.0",
            "_view_name": "StyleView",
            "description_width": ""
          }
        },
        "60ce2b8078cc4841b221c48e07c37bc6": {
          "model_module": "@jupyter-widgets/controls",
          "model_module_version": "1.5.0",
          "model_name": "FloatProgressModel",
          "state": {
            "_dom_classes": [],
            "_model_module": "@jupyter-widgets/controls",
            "_model_module_version": "1.5.0",
            "_model_name": "FloatProgressModel",
            "_view_count": null,
            "_view_module": "@jupyter-widgets/controls",
            "_view_module_version": "1.5.0",
            "_view_name": "ProgressView",
            "bar_style": "success",
            "description": "",
            "description_tooltip": null,
            "layout": "IPY_MODEL_ac36554684a54593b1f6f57ee77fb5a7",
            "max": 46830571,
            "min": 0,
            "orientation": "horizontal",
            "style": "IPY_MODEL_70246cb7c4234019bbc8659197b5f5fb",
            "value": 46830571
          }
        },
        "70246cb7c4234019bbc8659197b5f5fb": {
          "model_module": "@jupyter-widgets/controls",
          "model_module_version": "1.5.0",
          "model_name": "ProgressStyleModel",
          "state": {
            "_model_module": "@jupyter-widgets/controls",
            "_model_module_version": "1.5.0",
            "_model_name": "ProgressStyleModel",
            "_view_count": null,
            "_view_module": "@jupyter-widgets/base",
            "_view_module_version": "1.2.0",
            "_view_name": "StyleView",
            "bar_color": null,
            "description_width": ""
          }
        },
        "70e1956e3c2e4f90ae543eed9f56d172": {
          "model_module": "@jupyter-widgets/base",
          "model_module_version": "1.2.0",
          "model_name": "LayoutModel",
          "state": {
            "_model_module": "@jupyter-widgets/base",
            "_model_module_version": "1.2.0",
            "_model_name": "LayoutModel",
            "_view_count": null,
            "_view_module": "@jupyter-widgets/base",
            "_view_module_version": "1.2.0",
            "_view_name": "LayoutView",
            "align_content": null,
            "align_items": null,
            "align_self": null,
            "border": null,
            "bottom": null,
            "display": null,
            "flex": null,
            "flex_flow": null,
            "grid_area": null,
            "grid_auto_columns": null,
            "grid_auto_flow": null,
            "grid_auto_rows": null,
            "grid_column": null,
            "grid_gap": null,
            "grid_row": null,
            "grid_template_areas": null,
            "grid_template_columns": null,
            "grid_template_rows": null,
            "height": null,
            "justify_content": null,
            "justify_items": null,
            "left": null,
            "margin": null,
            "max_height": null,
            "max_width": null,
            "min_height": null,
            "min_width": null,
            "object_fit": null,
            "object_position": null,
            "order": null,
            "overflow": null,
            "overflow_x": null,
            "overflow_y": null,
            "padding": null,
            "right": null,
            "top": null,
            "visibility": null,
            "width": null
          }
        },
        "ac36554684a54593b1f6f57ee77fb5a7": {
          "model_module": "@jupyter-widgets/base",
          "model_module_version": "1.2.0",
          "model_name": "LayoutModel",
          "state": {
            "_model_module": "@jupyter-widgets/base",
            "_model_module_version": "1.2.0",
            "_model_name": "LayoutModel",
            "_view_count": null,
            "_view_module": "@jupyter-widgets/base",
            "_view_module_version": "1.2.0",
            "_view_name": "LayoutView",
            "align_content": null,
            "align_items": null,
            "align_self": null,
            "border": null,
            "bottom": null,
            "display": null,
            "flex": null,
            "flex_flow": null,
            "grid_area": null,
            "grid_auto_columns": null,
            "grid_auto_flow": null,
            "grid_auto_rows": null,
            "grid_column": null,
            "grid_gap": null,
            "grid_row": null,
            "grid_template_areas": null,
            "grid_template_columns": null,
            "grid_template_rows": null,
            "height": null,
            "justify_content": null,
            "justify_items": null,
            "left": null,
            "margin": null,
            "max_height": null,
            "max_width": null,
            "min_height": null,
            "min_width": null,
            "object_fit": null,
            "object_position": null,
            "order": null,
            "overflow": null,
            "overflow_x": null,
            "overflow_y": null,
            "padding": null,
            "right": null,
            "top": null,
            "visibility": null,
            "width": null
          }
        },
        "ac91df63ce294871aafe901947cdba06": {
          "model_module": "@jupyter-widgets/controls",
          "model_module_version": "1.5.0",
          "model_name": "HTMLModel",
          "state": {
            "_dom_classes": [],
            "_model_module": "@jupyter-widgets/controls",
            "_model_module_version": "1.5.0",
            "_model_name": "HTMLModel",
            "_view_count": null,
            "_view_module": "@jupyter-widgets/controls",
            "_view_module_version": "1.5.0",
            "_view_name": "HTMLView",
            "description": "",
            "description_tooltip": null,
            "layout": "IPY_MODEL_70e1956e3c2e4f90ae543eed9f56d172",
            "placeholder": "​",
            "style": "IPY_MODEL_5d66a9706a7d485ba17a4358d94b0ff0",
            "value": " 44.7M/44.7M [00:00&lt;00:00, 115MB/s]"
          }
        },
        "ec27798508fa45feb4da3c00e34e29bd": {
          "model_module": "@jupyter-widgets/controls",
          "model_module_version": "1.5.0",
          "model_name": "DescriptionStyleModel",
          "state": {
            "_model_module": "@jupyter-widgets/controls",
            "_model_module_version": "1.5.0",
            "_model_name": "DescriptionStyleModel",
            "_view_count": null,
            "_view_module": "@jupyter-widgets/base",
            "_view_module_version": "1.2.0",
            "_view_name": "StyleView",
            "description_width": ""
          }
        }
      }
    }
  },
  "nbformat": 4,
  "nbformat_minor": 0
}
